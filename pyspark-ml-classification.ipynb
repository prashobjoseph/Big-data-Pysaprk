{
 "cells": [
  {
   "cell_type": "markdown",
   "metadata": {},
   "source": [
    "# Setting pyspark environment"
   ]
  },
  {
   "cell_type": "code",
   "execution_count": 1,
   "metadata": {},
   "outputs": [],
   "source": [
    "import os\n",
    "import sys\n",
    "\n",
    "os.environ[\"SPARK_HOME\"] = \"/usr/spark2.4.3\"\n",
    "os.environ[\"PYLIB\"] = os.environ[\"SPARK_HOME\"] + \"/python/lib\"\n",
    "os.environ[\"PYSPARK_PYTHON\"] = \"/usr/local/anaconda/bin/python\" \n",
    "os.environ[\"PYSPARK_DRIVER_PYTHON\"] = \"/usr/local/anaconda/bin/python\"\n",
    "sys.path.insert(0, os.environ[\"PYLIB\"] +\"/py4j-0.10.7-src.zip\")\n",
    "sys.path.insert(0, os.environ[\"PYLIB\"] +\"/pyspark.zip\")\n",
    " \n",
    "from pyspark import SparkContext, SparkConf\n",
    "from pyspark.sql import SQLContext\n",
    "\n",
    "from pyspark.sql import SparkSession\n",
    "from functools import reduce\n",
    "from pyspark.sql.functions import col, lit, when,count,isnan\n",
    "import pyspark.sql.functions as func\n"
   ]
  },
  {
   "cell_type": "code",
   "execution_count": 2,
   "metadata": {},
   "outputs": [],
   "source": [
    "# NEW SPARK DEFINITION\n",
    "import pyspark\n",
    "from pyspark import SparkConf\n",
    "from pyspark.sql import SparkSession\n",
    "spark = SparkSession.builder.getOrCreate()\n",
    "sqlContext = SQLContext(spark)"
   ]
  },
  {
   "cell_type": "code",
   "execution_count": 3,
   "metadata": {},
   "outputs": [
    {
     "name": "stdout",
     "output_type": "stream",
     "text": [
      "Pixiedust database opened successfully\n"
     ]
    },
    {
     "data": {
      "text/html": [
       "\n",
       "        <div style=\"margin:10px\">\n",
       "            <a href=\"https://github.com/ibm-watson-data-lab/pixiedust\" target=\"_new\">\n",
       "                <img src=\"https://github.com/ibm-watson-data-lab/pixiedust/raw/master/docs/_static/pd_icon32.png\" style=\"float:left;margin-right:10px\"/>\n",
       "            </a>\n",
       "            <span>Pixiedust version 1.1.15</span>\n",
       "        </div>\n",
       "        "
      ],
      "text/plain": [
       "<IPython.core.display.HTML object>"
      ]
     },
     "metadata": {},
     "output_type": "display_data"
    },
    {
     "data": {
      "text/html": [
       "<div>Warning: You are not running the latest version of PixieDust. Current is 1.1.15, Latest is 1.1.19</div>"
      ],
      "text/plain": [
       "<IPython.core.display.HTML object>"
      ]
     },
     "metadata": {},
     "output_type": "display_data"
    },
    {
     "data": {
      "text/html": [
       "\n",
       "                <div>Please copy and run the following command in a new cell to upgrade: <span style=\"background-color:#ececec;font-family:monospace;padding:0 5px\">!pip install --user --upgrade pixiedust</span></div>\n",
       "            "
      ],
      "text/plain": [
       "<IPython.core.display.HTML object>"
      ]
     },
     "metadata": {},
     "output_type": "display_data"
    },
    {
     "data": {
      "text/html": [
       "<div>Please restart kernel after upgrading.</div>"
      ],
      "text/plain": [
       "<IPython.core.display.HTML object>"
      ]
     },
     "metadata": {},
     "output_type": "display_data"
    }
   ],
   "source": [
    "# import python sql libraries and other functions \n",
    "from pyspark.sql.types import *\n",
    "from pyspark.sql import Row\n",
    "from pyspark.sql.functions import *\n",
    "import pixiedust"
   ]
  },
  {
   "cell_type": "markdown",
   "metadata": {},
   "source": [
    "# Loading dataset in dataframe"
   ]
  },
  {
   "cell_type": "code",
   "execution_count": 4,
   "metadata": {},
   "outputs": [],
   "source": [
    "#creating a DataFrame directly from Heart csv file \n",
    "\n",
    "heart= spark.read.option(\"header\", \"true\").option(\"delimiter\", \",\")\\\n",
    ".option(\"inferSchema\", \"true\").csv(\"hdfs:///user/imat5322_616807/heart.csv\")"
   ]
  },
  {
   "cell_type": "markdown",
   "metadata": {},
   "source": [
    "# Exploratory data analysis"
   ]
  },
  {
   "cell_type": "code",
   "execution_count": 5,
   "metadata": {},
   "outputs": [
    {
     "data": {
      "text/plain": [
       "[Row(HeartDisease='No', BMI=16.6, Smoking='Yes', AlcoholDrinking='No', Stroke='No', PhysicalHealth=3.0, MentalHealth=30.0, DiffWalking='No', Sex='Female', AgeCategory='55-59', Race='White', Diabetic='Yes', PhysicalActivity='Yes', GenHealth='Very good', SleepTime=5.0, Asthma='Yes', KidneyDisease='No', SkinCancer='Yes'),\n",
       " Row(HeartDisease='No', BMI=20.34, Smoking='No', AlcoholDrinking='No', Stroke='Yes', PhysicalHealth=0.0, MentalHealth=0.0, DiffWalking='No', Sex='Female', AgeCategory='80 or older', Race='White', Diabetic='No', PhysicalActivity='Yes', GenHealth='Very good', SleepTime=7.0, Asthma='No', KidneyDisease='No', SkinCancer='No'),\n",
       " Row(HeartDisease='No', BMI=26.58, Smoking='Yes', AlcoholDrinking='No', Stroke='No', PhysicalHealth=20.0, MentalHealth=30.0, DiffWalking='No', Sex='Male', AgeCategory='65-69', Race='White', Diabetic='Yes', PhysicalActivity='Yes', GenHealth='Fair', SleepTime=8.0, Asthma='Yes', KidneyDisease='No', SkinCancer='No'),\n",
       " Row(HeartDisease='No', BMI=24.21, Smoking='No', AlcoholDrinking='No', Stroke='No', PhysicalHealth=0.0, MentalHealth=0.0, DiffWalking='No', Sex='Female', AgeCategory='75-79', Race='White', Diabetic='No', PhysicalActivity='No', GenHealth='Good', SleepTime=6.0, Asthma='No', KidneyDisease='No', SkinCancer='Yes'),\n",
       " Row(HeartDisease='No', BMI=23.71, Smoking='No', AlcoholDrinking='No', Stroke='No', PhysicalHealth=28.0, MentalHealth=0.0, DiffWalking='Yes', Sex='Female', AgeCategory='40-44', Race='White', Diabetic='No', PhysicalActivity='Yes', GenHealth='Very good', SleepTime=8.0, Asthma='No', KidneyDisease='No', SkinCancer='No')]"
      ]
     },
     "execution_count": 5,
     "metadata": {},
     "output_type": "execute_result"
    }
   ],
   "source": [
    "heart.take(5)"
   ]
  },
  {
   "cell_type": "code",
   "execution_count": 6,
   "metadata": {},
   "outputs": [
    {
     "data": {
      "text/plain": [
       "[('HeartDisease', 'string'),\n",
       " ('BMI', 'double'),\n",
       " ('Smoking', 'string'),\n",
       " ('AlcoholDrinking', 'string'),\n",
       " ('Stroke', 'string'),\n",
       " ('PhysicalHealth', 'double'),\n",
       " ('MentalHealth', 'double'),\n",
       " ('DiffWalking', 'string'),\n",
       " ('Sex', 'string'),\n",
       " ('AgeCategory', 'string'),\n",
       " ('Race', 'string'),\n",
       " ('Diabetic', 'string'),\n",
       " ('PhysicalActivity', 'string'),\n",
       " ('GenHealth', 'string'),\n",
       " ('SleepTime', 'double'),\n",
       " ('Asthma', 'string'),\n",
       " ('KidneyDisease', 'string'),\n",
       " ('SkinCancer', 'string')]"
      ]
     },
     "execution_count": 6,
     "metadata": {},
     "output_type": "execute_result"
    }
   ],
   "source": [
    "heart.dtypes"
   ]
  },
  {
   "cell_type": "code",
   "execution_count": 7,
   "metadata": {},
   "outputs": [
    {
     "name": "stdout",
     "output_type": "stream",
     "text": [
      "(319795, 18)\n"
     ]
    }
   ],
   "source": [
    "#print number of rows and columns \n",
    "print((heart.count(), len(heart.columns)))"
   ]
  },
  {
   "cell_type": "code",
   "execution_count": 8,
   "metadata": {},
   "outputs": [
    {
     "name": "stdout",
     "output_type": "stream",
     "text": [
      "+------------+---+-------+---------------+------+--------------+------------+-----------+---+-----------+----+--------+----------------+---------+---------+------+-------------+----------+\n",
      "|HeartDisease|BMI|Smoking|AlcoholDrinking|Stroke|PhysicalHealth|MentalHealth|DiffWalking|Sex|AgeCategory|Race|Diabetic|PhysicalActivity|GenHealth|SleepTime|Asthma|KidneyDisease|SkinCancer|\n",
      "+------------+---+-------+---------------+------+--------------+------------+-----------+---+-----------+----+--------+----------------+---------+---------+------+-------------+----------+\n",
      "|           0|  0|      0|              0|     0|             0|           0|          0|  0|          0|   0|       0|               0|        0|        0|     0|            0|         0|\n",
      "+------------+---+-------+---------------+------+--------------+------------+-----------+---+-----------+----+--------+----------------+---------+---------+------+-------------+----------+\n",
      "\n"
     ]
    }
   ],
   "source": [
    "#checking for NUll values in dataset\n",
    "heart.select([count(when(col(c).isNull(),c)).alias(c) for c in heart.columns]).show()"
   ]
  },
  {
   "cell_type": "code",
   "execution_count": 9,
   "metadata": {},
   "outputs": [
    {
     "name": "stdout",
     "output_type": "stream",
     "text": [
      "+------------+------+\n",
      "|HeartDisease| count|\n",
      "+------------+------+\n",
      "|          No|292422|\n",
      "|         Yes| 27373|\n",
      "+------------+------+\n",
      "\n"
     ]
    }
   ],
   "source": [
    "#checking balance of dataset\n",
    "data=heart.groupBy('HeartDisease').count()\n",
    "data.show()"
   ]
  },
  {
   "cell_type": "code",
   "execution_count": 10,
   "metadata": {
    "pixiedust": {
     "displayParams": {
      "handlerId": "barChart",
      "keyFields": "HeartDisease",
      "valueFields": "count"
     }
    }
   },
   "outputs": [
    {
     "data": {
      "text/html": [
       "<style type=\"text/css\">.pd_warning{display:none;}</style><div class=\"pd_warning\"><em>Hey, there's something awesome here! To see it, open this notebook outside GitHub, in a viewer like Jupyter</em></div>\n",
       "        <div class=\"pd_save is-viewer-good\" style=\"padding-right:10px;text-align: center;line-height:initial !important;font-size: xx-large;font-weight: 500;color: coral;\">\n",
       "            \n",
       "        </div>\n",
       "    <div id=\"chartFigure10f1fff3\" class=\"pd_save is-viewer-good\" style=\"overflow-x:auto\">\n",
       "            \n",
       "                    \n",
       "                            <center><img style=\"max-width:initial !important\" src=\"data:image/png;base64,iVBORw0KGgoAAAANSUhEUgAAAuMAAAHOCAYAAAAypwfRAAAABHNCSVQICAgIfAhkiAAAAAlwSFlzAAAOwwAADsMBx2+oZAAAADh0RVh0U29mdHdhcmUAbWF0cGxvdGxpYiB2ZXJzaW9uMy4xLjAsIGh0dHA6Ly9tYXRwbG90bGliLm9yZy+17YcXAAAgAElEQVR4nO3deXRU5eH/8c9kgcyQICQTwtYaQ9SAIEgwAZElCSBL5Yu0EhtlrYDElBiqIqJhDxxrK1qkh+KXWGuhtGqVtd8vEpBKSCDKpp6wSHBpCVkwTWPGkDD39wc/7tcpBBACT8D365w5h8zzzDPP3HOMby43Nw7LsiwBAAAAuOr8TG8AAAAA+L4ixgEAAABDAkxvAADgy7Is1dTUiKsIL4/D4VDTpk3lcDhMbwUA6kWMA0AjcvLkSX3yySc6deqU6a1cF/z9/dWpUyc1adLE9FYA4Jwc/AAnADQOlmXp8OHDqqmp0U033SQ/P64kvBxer1dFRUVq2rSpoqOjOUMOoFHizDgANBKnTp1SZWWloqKi1KxZM9PbuS60a9dOR44c0eHDh9WhQwf+ggOg0eG7EgA0ErW1tZKkpk2bGt7J9ePMsdy0aZNyc3Pl9XoN7wgAfBHjANDIcDlFwzlzLJs1a6YdO3bo0KFDhncEAL6IcQDAda9Zs2byer2qqKgwvRUA8EGMAwC+FyzL4i41ABodfoATABo5h2POVXsvy5p11d7rcr377rsaOHAg92MHcE3jzDgAAABgCDEOALhkdXV1yszM1A9/+EMFBQWpY8eOWrt2rSTptddeU3R0tJo2baouXbpo48aN9uteffVVtW/f3met2bNn6+6777a/7t+/v5588klNnjxZISEhioyM1J/+9CdJ0tGjRzVw4EBJp39I0+Fw6NVXX73CnxYAGh4xDgC4ZLNmzdLy5cu1ePFiffzxx/r1r3+twMBA5ebmasKECZo6dar27dun++67TyNGjNDRo0e/0/rLli1TTEyMdu/erXHjxmn8+PEqKSnRD37wA/35z3+WJB07dkzHjh1TcnLyFfiEAHBlEeMAgEvi8Xj0q1/9Sr/5zW80cuRIdejQQUOGDNHgwYP10ksvaeTIkZo6dapuvfVWzZ07V3fccYdefvnl7/QevXv3VkZGhqKjo/XMM8/Iz89PO3fulL+/v1q2bClJat26tVq3bi2n03klPiYAXFHEOADgkhw+fFg1NTXq37//WWMHDhxQz549fZ7r1auXDhw48J3eo0uXLvafAwIC5Ha7VVJSckn7BYDGiBgHAFyS893F5EJ3OPHz8ztrzpnfQPptgYGBPl87HA5+iyaA6woxDgC4JDfffLOaNm2qrVu3njUWExOjvLw8n+d27NihmJgYSVJ4eLjKy8t9Anz//v3f6f3PhDr3DgdwLeM+4wCAS+J0OvWLX/xCU6dOlZ+fn+644w4dOnRIXq9XU6dOVd++fbVkyRINGjRIr7/+unbv3m3fDeXOO++Un5+f5s6dq7Fjx2rDhg3atm2bOnfufNHvf+ONN0qSNmzYoF69eikkJERNmza9Ip8VAK4UzowDAC7ZnDlzNH78eKWlpaljx47KyMjQqVOndNddd2nFihVavHixOnfurL/+9a96++23FRkZKUlyu93Kzs7W66+/rm7dumnv3r2aMmXKd3rvyMhITZ8+XePHj1d4eLhWrVp1BT4hAFxZDotfXQYAjYLH49Enn3yiTp06cWeQBnLmmBYVFenw4cPq27ev7rrrLtPbAgAbZ8YBAAAAQ4hxAAAAwBBiHAAAADCEGAcAAAAMIcYBoJHh5+obDscSQGNHjANAI3Hml9jU1NQY3sn148yxrKurM7wTADg3fukPADQS/v7+at68ub788ks1adJEfn6cL7kcXq9XX3zxhb7++mt5vV7T2wGAcyLGAaCRcDgcuvHGG/XRRx+psLDQ9HauC16vV8XFxfbXZ/71AQAaC2IcABqRJk2a6MYbb9Q777yjmpoaud1uORwO09u6JlmWpdraWlmWpYqKCjVp0kShoaGmtwUAPvgNnADQCH322WfasGGD/vWvfxHjl8myLAUFBSkhIUG33347xxNAo0KMA0AjdeLECX311Veqra01vZVrmr+/v0JCQhQREUGIA2h0iHEAAADAEH5UHwAAADCEGAcAAAAMIcYBAAAAQ4hxAAAAwBBiHAAAADCEGAcAAAAMIcYBAAAAQ4hxAAAAwBBiHAAAADCEGAcAAAAMIcYBAAAAQ4hxAAAAwBBiHAAAADCEGAcAAAAMIcYBAAAAQ4hxAAAAwBBiHAAAADAkwPQGTPN6vaqoqFBQUJAcDofp7QAAAOA6ZFmWvvnmG7Vo0UJ+fv93Pvx7H+MVFRUKCwszvQ0AAAB8D5SXlys0NNT++nsf40FBQZJOHxin02l4NwAAALgeeTwehYWF2e15xvc+xs9cmuJ0OolxAAAAXFH/eVk0P8AJAAAAGFJvjC9atEgxMTFyuVwKCwvT8OHDdfDgQXv84MGDSkhIkNPpVGRkpFasWOHz+rq6Ok2bNk1ut1shISEaO3asqqqqfOasX79enTp1UlBQkGJjY5WXl+czXlxcrBEjRsjlcqlNmzbKyso65z7btm0rl8ul4cOHq7i4+JIOBAAAAHC11RvjHTp00JIlS/Txxx8rJydH/v7+GjZsmCSptrZWw4YNk9vt1q5du/Tss89q8uTJ2rx5s/36efPmaeXKlVq9erU2b96sgoICpaam2uOFhYUaOXKkUlJS9OGHH6p3794aOnSoysvL7TnJyck6ceKEcnNztXTpUi1cuNAn+rOzszV//nwtWbJEubm5qqysVHJycoMeIAAAAOBKcViWZV3MxP379+v2229XcXGx8vPzNWrUKJWWliokJESSNGbMGFVWVurtt9+W1+tVRESEsrKyNHHiRElSTk6OBg0apOPHjyssLEzTpk1Tfn6+tm/fLun07V4iIyOVkZGhxx57TPv27VPXrl114MAB3XLLLZKkzMxMrVmzRnv27JEkde/eXUOGDNGCBQskSUeOHFGHDh20e/dudevW7aIOgMfjkcvlUnV1NdeMAwAA4Iqorzkv6ppxj8ejV199VbfeeqvCw8O1c+dO3XnnnXaIS1JSUpLy8/MlnY7isrIyJSYm2uP9+vWTJBUUFEiSdu7c6TPucDiUmJhor7Fz5061b9/eDvEz77F//355PB7V1NRo7969PmtERUUpMjLSXuNcamtr5fF4fB4AAACACeeN8XXr1ik4OFjNmjXT+vXrtXHjRvn5+amkpEStWrXymRseHq7S0lJJUklJiST5zPH391doaKg9Vt8aFxr3er0qKytTeXm5vF7vedc4lwULFsjlctkP7jEOAAAAU84b4wkJCdqzZ4+2bdumjh076qc//alqa2t1oStbLubKl8td4yKvrjnLzJkzVV1dbT++fY06AAAAcDWd9z7jzZo1U3R0tKKjoxUXF6eWLVtq48aNioiIUGFhoc/c0tJShYeHS5IiIiIknT67feZSllOnTunEiRP2meyIiIizzmCXlpZecNzPz09ut1t+fn72Wfr61jiXwMBABQYGnu9jAwAAAFfFd7rPuGVZCggIUFxcnAoKCnxuVZiTk6P4+HhJp6/ddrvd2rJliz2+bds2SVKPHj0kSXFxcT7jkrRlyxZ7jbi4OH355Zc6dOiQz3t06dJFTqdTTZs2VdeuXX3WKCoq0tGjR+01AAAAgMas3jPj06dP14gRI9S2bVsdP35cixYtktvtVu/eveV0OtWuXTtNmDBBs2bNUn5+vlatWqWNGzdKkvz8/DRlyhRlZmYqKipKwcHBmjp1qlJSUuxrtCdNmqSXX35ZCxcu1IgRI7Rs2TJVVlZq9OjRkqTbb79dffv21cSJE/Xiiy/q6NGjeuGFF7R48WJ7j2lpaUpPT1dsbKyioqKUkZGhPn36XPSdVAAAAACjrHo88MADVrt27awmTZpY7dq1sx544AHr4MGD9nhhYaHVr18/q2nTptYPf/hD65VXXvF5fW1trZWRkWGFhoZawcHB1ujRo61///vfPnPWrl1rxcTEWE2aNLHuuOMOa8eOHT7jx44ds4YPH245nU4rIiLCmj9//ln7zMrKslq3bm0FBQVZP/rRj6xjx47V95HOqbq62pJkVVdXf6fXAQAAABervua86PuMX6+4zzgAAACutMu6zzgAAACAhkeMAwAAAIac99aGwHflcMwxvQWgXpY1y/QWAADwwZlxAAAAwBBiHAAAADCEGAcAAAAMIcYBAAAAQ4hxAAAAwBBiHAAAADCEGAcAAAAMIcYBAAAAQ4hxAAAAwBBiHAAAADCEGAcAAAAMIcYBAAAAQ4hxAAAAwBBiHAAAADCEGAcAAAAMIcYBAAAAQ4hxAAAAwBBiHAAAADCEGAcAAAAMIcYBAAAAQ4hxAAAAwBBiHAAAADCEGAcAAAAMIcYBAAAAQ4hxAAAAwBBiHAAAADCEGAcAAAAMIcYBAAAAQ4hxAAAAwBBiHAAAADCEGAcAAAAMIcYBAAAAQ4hxAAAAwBBiHAAAADCEGAcAAAAMIcYBAAAAQ4hxAAAAwBBiHAAAADCEGAcAAAAMIcYBAAAAQ4hxAAAAwBBiHAAAADCEGAcAAAAMIcYBAAAAQ4hxAAAAwJB6YzwrK0vdu3dXcHCw2rRpo/Hjx6u0tNRnjsPhOOuxZ88enzmLFi1S27Zt5XK5NHz4cBUXF/uM5+fnq0ePHgoKClJMTIzWrVvnM15VVaXx48erefPmCgsLU0ZGhurq6nzmZGdnKyoqSk6nU/369dPBgwcv6WAAAAAAV1O9Mf7+++9r2rRpKigo0DvvvKNPPvlEycnJZ83785//rGPHjtmPzp0722PZ2dmaP3++lixZotzcXFVWVvqsUV5eriFDhqhnz5768MMPNXbsWP34xz9WYWGhPefRRx9VXl6eNm3apL/85S9avXq15s6da4/n5ORo0qRJmjFjhnbt2qXWrVtr2LBhOnny5GUfHAAAAOBKcliWZV3MxB07duiuu+5SRUWFbrjhhtMvdji0adMmDRgw4Jyv6d69u4YMGaIFCxZIko4cOaIOHTpo9+7d6tatm1566SU999xz+uKLL+RwOCRJffv2Vffu3bV48WJ99dVXCg8P18aNGzVw4EBJ0ooVK/Tkk0/q+PHj8vf318iRI+V0OvXHP/5RkvT1118rPDxcK1eu1IgRIy74uTwej1wul6qrq+V0Oi/mUOA8HI45prcA1MuyZpneAgDge6q+5rzoa8bLysoUFBSkZs2a+Tw/btw4tWrVSn369NH69evt52tqarR3714lJibaz0VFRSkyMlL5+fmSpJ07dyohIcEOcUlKSkqyxz/44ANZlqX+/fv7jJeXl+vw4cP2Gt9+j2bNmik+Pt5e4z/V1tbK4/H4PAAAAAATLirGa2pqNHfuXI0dO1YBAQH28wsWLNCbb76pjRs3ql+/frr33nv17rvvSjp9CYrX61WrVq181goPD1dJSYkkqaSk5ILjLVq0UGBgoM/4mbGLWeM/LViwQC6Xy36EhYVdzCEAAAAAGlzAhSacOnVKDz30kCTp+eef9xl7+umn7T/Hxsbq888/1+LFizVgwABdzNUvF5pzrvFvn0W/FDNnztT06dPtrz0eD0EOAAAAI857Ztzr9WrcuHEqLCzU//zP/yg4OPi8i8XGxqqoqEiS5Ha75efnd9YZ6tLSUvtMdkRExAXHKyoqVFtba4+fmX9mTqtWrc67xn8KDAyU0+n0eQAAAAAm1BvjlmXp4Ycftu9kEhoaesHF9u7dq8jISElS06ZN1bVrV23ZssUeLyoq0tGjRxUfHy9JiouL09atW33OgOfk5Njj3bt3l8Ph0HvvveczHhYWpujoaHuNb79HdXW18vPz7TUAAACAxqrey1QeeeQRrV271v6hzDP3Bw8PD5e/v7/WrVun0tJSxcfHKyAgQG+99ZZ+//vf+9wnPC0tTenp6YqNjVVUVJQyMjLUp08fdevWTZL04IMPavbs2UpPT9eUKVO0Zs0a5eXladmyZZKk0NBQpaSkKD09XdnZ2fr666/1zDPPKDU1Vf7+/pJO3/pw8ODBSkhIUM+ePTVv3jy1bdtWQ4cOvTJHDAAAAGgg9cb47373O0k66wxzUVGRIiMjFRAQoMWLF+vTTz+Vn5+fOnbsqDfffFNDhgyx506YMEHHjx9XamqqKioqNGDAAC1fvtweDwsL04YNG5SWlqZly5bppptu0htvvKGYmBh7ztKlS5WWlqYBAwYoICBAY8aMUWZmpj2elJSkZcuWae7cuSouLlZ8fLzWr1+vJk2aXP7RAQAAAK6gi77P+PWK+4w3LO4zjsaM+4wDAEy57PuMAwAAAGhYxDgAAABgCDEOAAAAGEKMAwAAAIYQ4wAAAIAhxDgAAABgCDEOAAAAGEKMAwAAAIYQ4wAAAIAhxDgAAABgCDEOAAAAGEKMAwAAAIYQ4wAAAIAhxDgAAABgCDEOAAAAGEKMAwAAAIYQ4wAAAIAhxDgAAABgCDEOAAAAGEKMAwAAAIYQ4wAAAIAhxDgAAABgCDEOAAAAGEKMAwAAAIYQ4wAAAIAhxDgAAABgCDEOAAAAGEKMAwAAAIYQ4wAAAIAhxDgAAABgCDEOAAAAGEKMAwAAAIYQ4wAAAIAhxDgAAABgCDEOAAAAGEKMAwAAAIYQ4wAAAIAhxDgAAABgCDEOAAAAGEKMAwAAAIYQ4wAAAIAhxDgAAABgCDEOAAAAGEKMAwAAAIYQ4wAAAIAhxDgAAABgCDEOAAAAGEKMAwAAAIbUG+NZWVnq3r27goOD1aZNG40fP16lpaU+cw4ePKiEhAQ5nU5FRkZqxYoVPuN1dXWaNm2a3G63QkJCNHbsWFVVVfnMWb9+vTp16qSgoCDFxsYqLy/PZ7y4uFgjRoyQy+VSmzZtlJWVddZeFy1apLZt28rlcmn48OEqLi7+zgcCAAAAuNrqjfH3339f06ZNU0FBgd555x198sknSk5Otsdra2s1bNgwud1u7dq1S88++6wmT56szZs323PmzZunlStXavXq1dq8ebMKCgqUmppqjxcWFmrkyJFKSUnRhx9+qN69e2vo0KEqLy+35yQnJ+vEiRPKzc3V0qVLtXDhQp/oz87O1vz587VkyRLl5uaqsrLSZ58AAABAY+WwLMu6mIk7duzQXXfdpYqKCt1www1as2aNRo0apdLSUoWEhEiSxowZo8rKSr399tvyer2KiIhQVlaWJk6cKEnKycnRoEGDdPz4cYWFhWnatGnKz8/X9u3bJUmWZSkyMlIZGRl67LHHtG/fPnXt2lUHDhzQLbfcIknKzMzUmjVrtGfPHklS9+7dNWTIEC1YsECSdOTIEXXo0EG7d+9Wt27dLvi5PB6PXC6Xqqur5XQ6v+Phw39yOOaY3gJQL8uaZXoLAIDvqfqa86KvGS8rK1NQUJCaNWsmSdq5c6fuvPNOO8QlKSkpSfn5+ZJOR3FZWZkSExPt8X79+kmSCgoK7DW+Pe5wOJSYmGivsXPnTrVv394O8TPvsX//fnk8HtXU1Gjv3r0+a0RFRSkyMtJe4z/V1tbK4/H4PAAAAAATLirGa2pqNHfuXI0dO1YBAQGSpJKSErVq1cpnXnh4uH1deUlJiST5zPH391doaKg9Vt8aFxr3er0qKytTeXm5vF7vedf4TwsWLJDL5bIfYWFhF3MIAAAAgAZ3wRg/deqUHnroIUnS888/bz9/oatbLubql8td4yKvsPExc+ZMVVdX249vX58OAAAAXE0B5xv0er0aN26cCgsL9d577yk4ONgei4iIUGFhoc/80tJShYeH2+PS6bPbZy5lOXXqlE6cOGGfyY6IiDjrDHZpaekFx/38/OR2u+Xn5yc/P7/zrvGfAgMDFRgYeL6PDQAAAFwV9Z4ZtyxLDz/8sPLy8rRp0yaFhob6jMfFxamgoMDnVoU5OTmKj4+XdPrabbfbrS1bttjj27ZtkyT16NHDXuPb45K0ZcsWe424uDh9+eWXOnTokM97dOnSRU6nU02bNlXXrl191igqKtLRo0ftNQAAAIDGqt4z44888ojWrl2r9evXS5J97+7w8HD5+/tr8ODBateunSZMmKBZs2YpPz9fq1at0saNGyVJfn5+mjJlijIzMxUVFaXg4GBNnTpVKSkp9nXakyZN0ssvv6yFCxdqxIgRWrZsmSorKzV69GhJ0u23366+fftq4sSJevHFF3X06FG98MILWrx4sb3PtLQ0paenKzY2VlFRUcrIyFCfPn0u6k4qAAAAgEn13trQ4XCc8wVFRUWKjIyUJB04cECTJ09WXl6eIiIilJmZqZ/97Gf23Lq6Oj355JP6/e9/r5MnT+q+++7T0qVLfS53WbdunZ544gkdOXJEt912m5YuXaqePXva48XFxZo8ebI2bdqk5s2b6+c//7lmzpzps6eFCxfqpZdeUkVFhQYMGKDly5erdevWF3UAuLVhw+LWhmjMuLUhAMCU+przou8zfr0ixhsWMY7GjBgHAJhy2fcZBwAAANCwiHEAAADAEGIcAAAAMIQYBwAAAAwhxgEAAABDiHEAAADAEGIcAAAAMIQYBwAAAAwhxgEAAABDiHEAAADAEGIcAAAAMIQYBwAAAAwhxgEAAABDiHEAAADAEGIcAAAAMIQYBwAAAAwhxgEAAABDiHEAAADAEGIcAAAAMIQYBwAAAAwhxgEAAABDiHEAAADAEGIcAAAAMIQYBwAAAAwhxgEAAABDiHEAAADAEGIcAAAAMIQYBwAAAAwhxgEAAABDiHEAAADAEGIcAAAAMIQYBwAAAAwhxgEAAABDiHEAAADAEGIcAAAAMIQYBwAAAAwhxgEAAABDiHEAAADAEGIcAAAAMIQYBwAAAAwhxgEAAABDiHEAAADAEGIcAAAAMIQYBwAAAAwhxgEAAABDiHEAAADAEGIcAAAAMIQYBwAAAAypN8bfeustJSUl6YYbbpDD4VBdXZ3PuMPhOOuxZ88enzmLFi1S27Zt5XK5NHz4cBUXF/uM5+fnq0ePHgoKClJMTIzWrVvnM15VVaXx48erefPmCgsLU0ZGxln7yM7OVlRUlJxOp/r166eDBw9e0oEAAAAArrZ6Y7y6ulqJiYl66qmn6n3xn//8Zx07dsx+dO7c2R7Lzs7W/PnztWTJEuXm5qqyslLJycn2eHl5uYYMGaKePXvqww8/1NixY/XjH/9YhYWF9pxHH31UeXl52rRpk/7yl79o9erVmjt3rj2ek5OjSZMmacaMGdq1a5dat26tYcOG6eTJk5d8QAAAAICrxWFZlnW+CVu3blVCQoJqa2sVEBDwfy90OLRp0yYNGDDgnK/r3r27hgwZogULFkiSjhw5og4dOmj37t3q1q2bXnrpJT333HP64osv5HA4JEl9+/ZV9+7dtXjxYn311VcKDw/Xxo0bNXDgQEnSihUr9OSTT+r48ePy9/fXyJEj5XQ69cc//lGS9PXXXys8PFwrV67UiBEjLuoAeDweuVwuVVdXy+l0XtRrUD+HY47pLQD1sqxZprcAAPieqq85L+ua8XHjxqlVq1bq06eP1q9fbz9fU1OjvXv3KjEx0X4uKipKkZGRys/PlyTt3LlTCQkJdohLUlJSkj3+wQcfyLIs9e/f32e8vLxchw8fttf49ns0a9ZM8fHx9hrnUltbK4/H4/MAAAAATLjkGF+wYIHefPNNbdy4Uf369dO9996rd999V9LpS1C8Xq9atWrl85rw8HCVlJRIkkpKSi443qJFCwUGBvqMnxm7mDXq27fL5bIfYWFhl/LxAQAAgMsWcOEp5/b000/bf46NjdXnn3+uxYsXa8CAAbrAlS+SdME55xr/9ln0SzVz5kxNnz7d/trj8RDkAAAAMKLBbm0YGxuroqIiSZLb7Zafn99ZZ6hLS0vtM9kREREXHK+oqFBtba09fmb+mTmtWrU67xrnEhgYKKfT6fMAAAAATGiwGN+7d68iIyMlSU2bNlXXrl21ZcsWe7yoqEhHjx5VfHy8JCkuLk5bt271OQOek5Njj3fv3l0Oh0Pvvfeez3hYWJiio6PtNb79HtXV1crPz7fXAAAAABqzei9TOXHihD7//HP7hyX37t0rf39/RUdHa+vWrSotLVV8fLwCAgL01ltv6fe//73PfcLT0tKUnp6u2NhYRUVFKSMjQ3369FG3bt0kSQ8++KBmz56t9PR0TZkyRWvWrFFeXp6WLVsmSQoNDVVKSorS09OVnZ2tr7/+Ws8884xSU1Pl7+8v6fStDwcPHqyEhAT17NlT8+bNU9u2bTV06NArdsAAAACAhlJvjK9Zs0bjx4+3v+7Ro4ckacuWLQoICNDixYv16aefys/PTx07dtSbb76pIUOG2PMnTJig48ePKzU1VRUVFRowYICWL19uj4eFhWnDhg1KS0vTsmXLdNNNN+mNN95QTEyMPWfp0qVKS0vTgAEDFBAQoDFjxigzM9MeT0pK0rJlyzR37lwVFxcrPj5e69evV5MmTRrm6AAAAABX0AXvM3694z7jDYv7jKMx4z7jAABTrsh9xgEAAABcOmIcAAAAMIQYBwAAAAwhxgEAAABDiHEAAADAEGIcAAAAMIQYBwAAAAwhxgEAAABDiHEAAADAEGIcAAAAMIQYBwAAAAwhxgEAAABDiHEAAADAEGIcAAAAMIQYBwAAAAwhxgEAAABDiHEAAADAEGIcAAAAMIQYBwAAAAwhxgEAAABDiHEAAADAEGIcAAAAMIQYBwAAAAwhxgEAAABDiHEAAADAEGIcAAAAMIQYBwAAAAwhxgEAAABDiHEAAADAEGIcAAAAMIQYBwAAAAwhxgEAAABDiHEAAADAEGIcAAAAMIQYBwAAAAwhxgEAAABDiHEAAADAEGIcAAAAMIQYBwAAAAwhxgEAAABDiHEAAADAEGIcAAAAMIQYBwAAAAwhxgEAAABDiHEAAADAEGIcAAAAMIQYBwAAAAwhxgEAAABD6o3xt956S0lJSbrhhhvkcDhUV1fnM37w4EElJCTI6XQqMjJSK1as8Bmvq6vTtGnT5Ha7FRISorFjx6qqqspnzvr169WpUycFBQUpNjZWeXl5PuPFxcUaMRz0tUkAABeWSURBVGKEXC6X2rRpo6ysrLP2uWjRIrVt21Yul0vDhw9XcXHxdz4IAAAAgAn1xnh1dbUSExP11FNPnTVWW1urYcOGye12a9euXXr22Wc1efJkbd682Z4zb948rVy5UqtXr9bmzZtVUFCg1NRUe7ywsFAjR45USkqKPvzwQ/Xu3VtDhw5VeXm5PSc5OVknTpxQbm6uli5dqoULF/pEf3Z2tubPn68lS5YoNzdXlZWVSk5OvuyDAgAAAFwNDsuyrPNN2Lp1qxISElRbW6uAgABJ0po1azRq1CiVlpYqJCREkjRmzBhVVlbq7bffltfrVUREhLKysjRx4kRJUk5OjgYNGqTjx48rLCxM06ZNU35+vrZv3y5JsixLkZGRysjI0GOPPaZ9+/apa9euOnDggG655RZJUmZmptasWaM9e/ZIkrp3764hQ4ZowYIFkqQjR46oQ4cO2r17t7p163ZRB8Dj8cjlcqm6ulpOp/O7Hj/8B4djjuktAPWyrFmmtwAA+J6qrzkv6ZrxnTt36s4777RDXJKSkpKUn58v6XQUl5WVKTEx0R7v16+fJKmgoMBe49vjDodDiYmJ9ho7d+5U+/bt7RA/8x779++Xx+NRTU2N9u7d67NGVFSUIiMj7TUAAACAxizgUl5UUlKiVq1a+TwXHh6u0tJSe1ySzxx/f3+FhobaY/Wt8cEHH5x33Ov1qqysTP7+/vJ6veecc+Y9zqW2ttbn+nePx3NRnxkAAABoaJd0ZvwCV7ZccLwh1riY9ziXBQsWyOVy2Y+wsLBLWgcAAAC4XJcU4xEREWedfS4tLVV4eLg9LslnzqlTp3TixAn7THZ9a1xo3M/PT263W263W35+fudd41xmzpyp6upq+/HtHxgFAAAArqZLivG4uDgVFBT43KowJydH8fHxkk5fu+12u7VlyxZ7fNu2bZKkHj162Gt8e1yStmzZYq8RFxenL7/8UocOHfJ5jy5dusjpdKpp06bq2rWrzxpFRUU6evSovca5BAYGyul0+jwAAAAAE+q9ZvzEiRP6/PPPdfjwYUnS3r175e/vr+joaA0ePFjt2rXThAkTNGvWLOXn52vVqlXauHGjJMnPz09TpkxRZmamoqKiFBwcrKlTpyolJcW+LGTSpEl6+eWXtXDhQo0YMULLli1TZWWlRo8eLUm6/fbb1bdvX02cOFEvvviijh49qhdeeEGLFy+295iWlqb09HTFxsYqKipKGRkZ6tOnz0XfSQUAAAAwqd4YX7NmjcaPH29/feaM9pYtW9S/f3+tX79ekydPVmxsrCIiIvTb3/5WSUlJ9vzMzExVVVXp/vvv18mTJ3Xfffdp6dKl9nhMTIzefPNNPfHEE5o9e7Zuu+02bdiwweca7tWrV2vy5Mnq1auXmjdvrunTp2vChAn2+IQJE3T8+HGlpqaqoqJCAwYM0PLlyxvmyAAAAABX2AXvM3694z7jDYv7jKMx4z7jAABTGvQ+4wAAAAAuHzEOAAAAGEKMAwAAAIYQ4wAAAIAhxDgAAABgCDEOAAAAGEKMAwAAAIYQ4wAAAIAhxDgAAABgCDEOAAAAGEKMAwAAAIYQ4wAAAIAhxDgAAABgCDEOAAAAGEKMAwAAAIYQ4wAAAIAhxDgAAABgCDEOAAAAGEKMAwAAAIYQ4wAAAIAhxDgAAABgCDEOAAAAGEKMAwAAAIYQ4wAAAIAhxDgAAABgCDEOAAAAGEKMAwAAAIYQ4wAAAIAhxDgAAABgCDEOAAAAGEKMAwAAAIYQ4wAAAIAhxDgAAABgCDEOAAAAGEKMAwAAAIYQ4wAAAIAhxDgAAABgCDEOAAAAGEKMAwAAAIYQ4wAAAIAhxDgAAABgCDEOAAAAGEKMAwAAAIYQ4wAAAIAhxDgAAABgCDEOAAAAGEKMAwAAAIYQ4wAAAIAhlxzjs2fPlsPh8HmMGDHCHj948KASEhLkdDoVGRmpFStW+Ly+rq5O06ZNk9vtVkhIiMaOHauqqiqfOevXr1enTp0UFBSk2NhY5eXl+YwXFxdrxIgRcrlcatOmjbKysi714wAAAABX3WWdGY+Li9OxY8fsx6uvvipJqq2t1bBhw+R2u7Vr1y49++yzmjx5sjZv3my/dt68eVq5cqVWr16tzZs3q6CgQKmpqfZ4YWGhRo4cqZSUFH344Yfq3bu3hg4dqvLycntOcnKyTpw4odzcXC1dulQLFy48K/oBAACAxsphWZZ1KS+cPXu23n33Xb3//vtnja1Zs0ajRo1SaWmpQkJCJEljxoxRZWWl3n77bXm9XkVERCgrK0sTJ06UJOXk5GjQoEE6fvy4wsLCNG3aNOXn52v79u2SJMuyFBkZqYyMDD322GPat2+funbtqgMHDuiWW26RJGVmZmrNmjXas2fPRX8Oj8cjl8ul6upqOZ3OSzkU+BaHY47pLQD1sqxZprcAAPieqq85L+vM+N69e9W6dWvdcsstevTRR/XVV19Jknbu3Kk777zTDnFJSkpKUn5+viTpyJEjKisrU2Jioj3er18/SVJBQYG9xrfHHQ6HEhMT7TV27typ9u3b2yF+5j32798vj8dzOR8LAAAAuCouOcZ79uyp1157TZs2bdKvfvUrvffee/qv//ovWZalkpIStWrVymd+eHi4SktLJUklJSWS5DPH399foaGh9lh9a1xo3Ov1qqysrN5919bWyuPx+DwAAAAAEwIu9YWDBw+2/9ylSxd16tRJ0dHR+uCDD3ShK18u5sqYhljjXBYsWKA5c7iUAgAAAOY12K0NO3TooBYtWqioqEgRERH2GewzSktLFR4eLkmKiIiQJJ85p06d0okTJ+yz3fWtcaFxPz8/ud3uevc5c+ZMVVdX249v/0AoAAAAcDU1WIx//vnnqqioUGRkpOLi4lRQUOBzq8KcnBzFx8dLkqKiouR2u7VlyxZ7fNu2bZKkHj16SDp9p5Zvj0vSli1b7DXi4uL05Zdf6tChQz7v0aVLl/P+IGZgYKCcTqfPAwAAADDhki9TefLJJzV8+HC1b99eRUVFeuKJJ9SrVy/Fxsaqrq5O7dq104QJEzRr1izl5+dr1apV2rhxoyTJz89PU6ZMUWZmpqKiohQcHKypU6cqJSVFYWFhkqRJkybp5Zdf1sKFCzVixAgtW7ZMlZWVGj16tCTp9ttvV9++fTVx4kS9+OKLOnr0qF544QUtXry4AQ4LAAAAcOVdcox/9tlnuv/++1VeXq62bdvqnnvu0fz58+Xn56cmTZpo/fr1mjx5smJjYxUREaHf/va3SkpKsl+fmZmpqqoq3X///Tp58qTuu+8+LV261B6PiYnRm2++qSeeeEKzZ8/Wbbfdpg0bNtixLkmrV6/W5MmT1atXLzVv3lzTp0/XhAkTLvUjAQAAAFfVJd9n/HrBfcYbFvcZR2PGfcYBAKZckfuMAwAAALh0xDgAAABgCDEOAAAAGEKMAwAAAIYQ4wAAAIAhxDgAAABgCDEOAAAAGEKMAwAAAIYQ4wAAAIAhxDgAAABgCDEOAAAAGEKMAwAAAIYQ4wAAAIAhxDgAAABgCDEOAAAAGEKMAwAAAIYQ4wAAAIAhxDgAAABgCDEOAAAAGEKMAwAAAIYEmN4AAADfdw7HHNNbAOplWbNMb+G6xplxAAAAwBBiHAAAADCEGAcAAAAMIcYBAAAAQ4hxAAAAwBBiHAAAADCEGAcAAAAMIcYBAAAAQ4hxAAAAwBBiHAAAADCEGAcAAAAMIcYBAAAAQ4hxAAAAwBBiHAAAADCEGAcAAAAMIcYBAAAAQ4hxAAAAwBBiHAAAADCEGAcAAAAMIcYBAAAAQ4hxAAAAwBBiHAAAADCEGAcAAAAMIcYBAAAAQ4hxAAAAwBBiHAAAADCEGAcAAAAMuW5ifNGiRWrbtq1cLpeGDx+u4uJi01sCAAAAzuu6iPHs7GzNnz9fS5YsUW5uriorK5WcnGx6WwAAAMB5BZjeQEP4zW9+o/T0dI0cOVKStGLFCnXo0EF79uxRt27dDO8OAAAAOLdr/sx4TU2N9u7dq8TERPu5qKgoRUZGKj8/3+DOAAAAgPO75s+Ml5eXy+v1qlWrVj7Ph4eHq6Sk5Kz5tbW1qqurs7+urq6WJHk8niu70e+NWtMbAOrFf+dovPjeicaL750N48xxtCzL5/lrPsb/8wNdyIIFCzRnzpyzng8LC2uoLQFopFyuBaa3AADXHL53NqxvvvlGLpfL/vqaj3G32y0/P7+zzoKXlpaedbZckmbOnKnp06fbX3u9XlVVVSkkJEQOh+OK7xe4WB6PR2FhYSovL5fT6TS9HQC4JvC9E42VZVn65ptv1KJFC5/nr/kYb9q0qbp27aotW7YoKSlJklRUVKSjR48qPj7+rPmBgYEKDAz0ea5Zs2ZXZa/ApXA6nfwPBQC+I753ojH69hnxM675GJektLQ0paenKzY2VlFRUcrIyFCfPn24kwoAAAAatesixidMmKDjx48rNTVVFRUVGjBggJYvX256WwAAAMB5XRcxLkkzZszQjBkzTG8DaDABAQGaNWuWAgKum/9MAeCK43snrjUO67vejgQAAABAg7jmf+kPAAAAcK0ixgEAAABDiHEAAADAEGIcMKh///5yOBz63//9X5/nH3roIY0bN87MpgCgERo4cKBGjRp11vM//elPlZiY+J1/IzfQWBDjgGFBQUF65plnTG8DABq15cuXa+PGjfrrX/9qP7du3TqtWbNGr7zyCr9FG9csYhwwbPTo0frkk0/09ttvn3P8+PHj+slPfqLg4GC1bNlSP/vZz/T1119f5V0CgFmRkZFauHChHn30UVVUVKiyslJTpkxRVlaWoqKiVFdXp6efflrt2rVTSEiIEhIS9NFHH9mvLygo0F133aVmzZqpZcuWSkhIUGVlpcFPBJxGjAOGtWrVSunp6Xr22Wfl9XrPGh89erS++OILvffee1q7dq22bdumjIwMAzsFALMeffRRRUdHa9q0aZo+fbp++MMf6uc//7kkKTMzU5s2bdLq1au1e/duxcfHa9CgQaqqqpIkpaSkqH///vroo4/097//XcnJySY/CmDjPuOAQf3799fdd9+txx9/XDfddJNefvllpaSk6KGHHlJAQICeeuopdezYUR9//LE6deokSfrb3/6me++9V2VlZbrhhhsMfwIAuLoOHTqkbt26ybIs7d69W7feequqq6sVFham3bt3KyYmxp4bFRWlrKwsPfDAA3I6ncrJyVGvXr0M7h44G2fGgUagRYsWevzxxzVr1izV1dXZzx84cEAhISF2iEtSr169VFdXp08//dTEVgHAqJtvvln33Xefhg8frltvvVXS6UD/5ptv1KNHDwUHB9uPzz77TEeOHJEkpaWlKSkpSffdd59++9vfqry83OTHAGzEONBIpKen61//+pdeffVV+7lz/cMVP6QE4PsuICDA59fdn7kU5f3339eePXvsx4EDB/TII49Ikn75y18qPz9fcXFxys7O1q233mqHOmASMQ40EsHBwZoxY4bmzp2rmpoaSVJMTIz+/e9/65NPPrHn5ebmKiAgQB06dDC1VQBoVDp16qSAgAAdO3ZM0dHRPo/Q0FB7XpcuXTRjxgzl5+crLCys3h+cB64mYhxoRKZMmSLLsrRu3TpJp2N80KBBmjBhgj744ANt375dU6dO1fjx47leHAD+v5YtWyo1NVWTJ0/WX//6VxUVFWnHjh166qmnVFhYqKqqKj322GN6//339dlnn2n9+vX6xz/+YV/mApgUcOEpAK6WM/ccP/PPqpL02muvKTU1Vf369VNAQIB+/OMf64UXXjC4SwBofH7961/L7XYrIyND//znP9W6dWv1799foaGh9lnzBx54QGVlZWrXrp3mzp2rYcOGmd42wN1UAAAAAFO4TAUAAAAwhBgHAAAADCHGAQAAAEOIcQAAAMAQYhwAAAAwhBgHAAAADCHGAQAAAEOIcQAAAMAQYhwAcFleffVVtW/f3vQ2AOCaRIwDQCPRv39/PfPMM2c9P27cOD300ENX9L3vvvtuzZ492+e52bNny+FwyOFwqEmTJmrTpo1+9KMfac2aNT7zkpOTtXv37iu6PwC4XhHjAPA9VlNTc97xuLg4HTt2TEVFRVq7dq26d++uUaNG6amnnrLnOJ1OhYeHX+mtAsB1iRgHgGvIqVOn9Oyzz6p9+/YKCQlR//79tW/fPns8NzdXCQkJatGihcLDw/XTn/5UZWVl9viZS0pWrlypDh06KDw8XOPGjdP27ds1Z84cORwORUZG2vMDAwPVunVrtWvXTj169NDcuXP1yiuv6LnnntPHH3/ss+YZmzZt0h133CGn0ym3261hw4Y12P6PHDmiwYMHq3nz5mrevLni4+N1+PBhe/xPf/qTOnXqJKfTqc6dO+uNN95omAMPAFcIMQ4A15A5c+Zow4YNWrVqlXbv3q3evXtr4MCBqqyslCRVVVVpypQpKigo0MaNG/XFF18oNTXVZ42ysjJlZ2frjTfeUG5url588UXFxcXpF7/4hY4dO6Zdu3addw8pKSkKDQ3VunXrzhqrq6vTT37yE40bN06FhYXKycnRwIEDG2z/aWlpioiI0K5du1RQUKCpU6fKz+/0/8pycnL085//XHPmzNHHH3+sp59+WmPGjFFeXt6lHWwAuBosAECj0K9fPyswMNBq1qyZzyMgIMB68MEHLY/HYzmdTmv//v0+r7v55putP/zhD+dcc8eOHVZAQIBVV1dnWZZlZWdnW5KsoqIin3m9e/e2Zs2a5fPcrFmzrN69e59z3Z49e1qPPPKIvWa7du0sy7KssrIyS5L1+eefn/Wahth/586drddee+2ccxMSEqzf/OY3Ps9NnDjR+tnPfnbO+QDQGASY/ssAAOD/TJw4URkZGT7PTZ8+XZL06aefyuPxqGfPnj7jHo9HR44ckSR9+eWXmjFjhrZv367S0lJ5vV7V1dWpuLhY7dq1kyS1bNnS51KUS2FZlhwOx1nPh4WF6YEHHlDnzp01ZMgQ3XPPPbr//vsVHBzcIPtPTU3Vww8/rNdff10DBw5UcnKyfvCDH0iS9u/frx07dvhcz37y5Endfffdl/VZAeBKIsYBoBFp2bKloqOjfZ4LCQlRXV2dqqqqJElbt25VixYtfOaEhoZKOn3nlZMnT+p3v/ud2rdvr6KiIg0dOlS1tbX2XJfLdVl79Hq9OnTokEaOHHnO8VWrVik/P18bNmzQ888/rzlz5uiDDz5okP1PmTJF99xzj9auXau1a9dq1qxZ+tvf/qY+ffqoqqpKzz//vO655x6ftZ1O52V9XgC4kohxALhGdOzYUU2aNNGxY8fUo0ePc87Jy8vT66+/rgEDBkjSBa//PiMwMFCnTp26qLl//OMf9dVXX2n48OH1zomPj1d8fLxmzpypVq1aafPmzRo8eHCD7D8qKkrp6elKT0/X0KFDtWrVKvXp00ddu3bVkSNHzvrLDAA0ZsQ4AFwjmjdvrrS0NE2ZMkUnT55U9+7dVVxcrLVr1+rBBx/Ubbfdpg4dOugPf/iDbrvtNn366afKysq6qLVvvPFG5eXl6R//+IdcLpdatmwpSaqtrVVxcbFOnTql4uJivfPOO3ruuef09NNPKyYm5qx1ioqK9Morr2j48OFq3bq13n//fVVVVenmm29ukP1nZGRo2LBhio6O1hdffKF9+/bZZ8KffvppjRo1Su3bt9ewYcPk8Xj097//XeHh4UpOTr7Mow8AVwYxDgDXkF/+8pcKCwvT448/rn/84x+KiIhQ//79FRYWJkl65ZVX9PDDD6tLly7q0qWL5s+fr5/85CcXXPfxxx/XmDFjFBUVpTZt2ujo0aOSpJ07d6pNmzYKCAhQWFiYevToob/85S+69957z7mOy+XSRx99pP/+7/9WRUWFoqKitGLFCt1xxx0Nsv/a2lpNmjRJ//znP+V2u5WSkqK0tDRJ0vDhw7Vq1SrNmzdPTz31lJo3b67Y2NizfpkRADQmDsuyLNObAAAAAL6PuM84AAAAYAgxDgAAABhCjAMAAACGEOMAAACAIcQ4AAAAYAgxDgAAABjy/wAekLnHHjs6+wAAAABJRU5ErkJggg==\" class=\"pd_save\"></center>\n",
       "                        \n",
       "                    \n",
       "                \n",
       "        </div>"
      ],
      "text/plain": [
       "<IPython.core.display.HTML object>"
      ]
     },
     "metadata": {},
     "output_type": "display_data"
    }
   ],
   "source": [
    "display(data)"
   ]
  },
  {
   "cell_type": "markdown",
   "metadata": {},
   "source": [
    "## Analysis to find relation between General Health, Physical activity and BMI "
   ]
  },
  {
   "cell_type": "code",
   "execution_count": 11,
   "metadata": {
    "pixiedust": {
     "displayParams": {
      "clusterby": "PhysicalActivity",
      "handlerId": "barChart",
      "keyFields": "GenHealth",
      "mpld3": "false",
      "orientation": "horizontal",
      "valueFields": "avg BMI"
     }
    }
   },
   "outputs": [
    {
     "data": {
      "text/html": [
       "<style type=\"text/css\">.pd_warning{display:none;}</style><div class=\"pd_warning\"><em>Hey, there's something awesome here! To see it, open this notebook outside GitHub, in a viewer like Jupyter</em></div>\n",
       "        <div class=\"pd_save is-viewer-good\" style=\"padding-right:10px;text-align: center;line-height:initial !important;font-size: xx-large;font-weight: 500;color: coral;\">\n",
       "            \n",
       "        </div>\n",
       "    <div id=\"chartFigure083f76b1\" class=\"pd_save is-viewer-good\" style=\"overflow-x:auto\">\n",
       "            \n",
       "                    \n",
       "                            <center><img style=\"max-width:initial !important\" src=\"data:image/png;base64,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\" class=\"pd_save\"></center>\n",
       "                        \n",
       "                    \n",
       "                \n",
       "        </div>"
      ],
      "text/plain": [
       "<IPython.core.display.HTML object>"
      ]
     },
     "metadata": {},
     "output_type": "display_data"
    }
   ],
   "source": [
    "data1=heart.groupBy('GenHealth','PhysicalActivity').agg(avg('BMI').alias('avg BMI'))\n",
    "display(data1)"
   ]
  },
  {
   "cell_type": "markdown",
   "metadata": {},
   "source": [
    "## Analysis to find relation between Age Category, Sex and Average Sleep time "
   ]
  },
  {
   "cell_type": "code",
   "execution_count": 12,
   "metadata": {
    "pixiedust": {
     "displayParams": {
      "clusterby": "Sex",
      "handlerId": "barChart",
      "keyFields": "AgeCategory",
      "orientation": "horizontal",
      "valueFields": "avg SleepTime"
     }
    }
   },
   "outputs": [
    {
     "data": {
      "text/html": [
       "<style type=\"text/css\">.pd_warning{display:none;}</style><div class=\"pd_warning\"><em>Hey, there's something awesome here! To see it, open this notebook outside GitHub, in a viewer like Jupyter</em></div>\n",
       "        <div class=\"pd_save is-viewer-good\" style=\"padding-right:10px;text-align: center;line-height:initial !important;font-size: xx-large;font-weight: 500;color: coral;\">\n",
       "            \n",
       "        </div>\n",
       "    <div id=\"chartFiguredf37ba3d\" class=\"pd_save is-viewer-good\" style=\"overflow-x:auto\">\n",
       "            \n",
       "                    \n",
       "                            <center><img style=\"max-width:initial !important\" src=\"data:image/png;base64,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\" class=\"pd_save\"></center>\n",
       "                        \n",
       "                    \n",
       "                \n",
       "        </div>"
      ],
      "text/plain": [
       "<IPython.core.display.HTML object>"
      ]
     },
     "metadata": {},
     "output_type": "display_data"
    }
   ],
   "source": [
    "data1=heart.groupBy('AgeCategory','Sex').agg(avg('SleepTime').alias('avg SleepTime'))\n",
    "display(data1)"
   ]
  },
  {
   "cell_type": "markdown",
   "metadata": {},
   "source": [
    "# Data analysis to select best features for  ML model"
   ]
  },
  {
   "cell_type": "code",
   "execution_count": 13,
   "metadata": {},
   "outputs": [
    {
     "name": "stdout",
     "output_type": "stream",
     "text": [
      "+-------+------------+------+\n",
      "|Smoking|HeartDisease| count|\n",
      "+-------+------------+------+\n",
      "|    Yes|         Yes| 16037|\n",
      "|    Yes|          No|115871|\n",
      "+-------+------------+------+\n",
      "\n"
     ]
    }
   ],
   "source": [
    "# Analysis to check impact of smoking on heart disease\n",
    "data=heart.groupBy('Smoking','HeartDisease').count()\n",
    "data=data.filter(col('Smoking').contains('Yes')).show()"
   ]
  },
  {
   "cell_type": "markdown",
   "metadata": {},
   "source": [
    "Number of people who smoke and have heart disease was 16,037 while number of people who smoke and do not have heart disease was found to be 115,871 which indicates smoking doesnt have much impact on heart disease."
   ]
  },
  {
   "cell_type": "code",
   "execution_count": 12,
   "metadata": {
    "pixiedust": {
     "displayParams": {
      "clusterby": "HeartDisease",
      "handlerId": "barChart",
      "keyFields": "AgeCategory",
      "title": "Relation between average BMI and age to heart disease",
      "valueFields": "average BMI"
     }
    }
   },
   "outputs": [
    {
     "data": {
      "text/html": [
       "<style type=\"text/css\">.pd_warning{display:none;}</style><div class=\"pd_warning\"><em>Hey, there's something awesome here! To see it, open this notebook outside GitHub, in a viewer like Jupyter</em></div>\n",
       "        <div class=\"pd_save is-viewer-good\" style=\"padding-right:10px;text-align: center;line-height:initial !important;font-size: xx-large;font-weight: 500;color: coral;\">\n",
       "            Relation between average BMI and age to heart disease\n",
       "        </div>\n",
       "    <div id=\"chartFigure15a61368\" class=\"pd_save is-viewer-good\" style=\"overflow-x:auto\">\n",
       "            \n",
       "                    \n",
       "                            <center><img style=\"max-width:initial !important\" src=\"data:image/png;base64,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\" class=\"pd_save\"></center>\n",
       "                        \n",
       "                    \n",
       "                \n",
       "        </div>"
      ],
      "text/plain": [
       "<IPython.core.display.HTML object>"
      ]
     },
     "metadata": {},
     "output_type": "display_data"
    }
   ],
   "source": [
    "# Analysis to check impact of bmi on heart disease\n",
    "data1=heart.groupBy('AgeCategory','HeartDisease').agg(avg('BMI').alias('average BMI'))\n",
    "display(data1)"
   ]
  },
  {
   "cell_type": "markdown",
   "metadata": {},
   "source": [
    "On all age groups, people with higher BMI is likely to have heart disease, which indicates direct impact of BMI on heart disease."
   ]
  },
  {
   "cell_type": "code",
   "execution_count": 13,
   "metadata": {},
   "outputs": [
    {
     "name": "stdout",
     "output_type": "stream",
     "text": [
      "+---------------+------------+-----+\n",
      "|AlcoholDrinking|HeartDisease|count|\n",
      "+---------------+------------+-----+\n",
      "|            Yes|         Yes| 1141|\n",
      "|            Yes|          No|20636|\n",
      "+---------------+------------+-----+\n",
      "\n"
     ]
    }
   ],
   "source": [
    "# Analysis to check impact of alcohol drinking on heart disease\n",
    "data2=heart.groupBy('AlcoholDrinking','HeartDisease').count()\n",
    "data2=data2.filter(col('AlcoholDrinking').contains('Yes')).show()"
   ]
  },
  {
   "cell_type": "markdown",
   "metadata": {},
   "source": [
    "Number of people who consumes alcohol and have heart disease was found to be 1,141 while number of people who consumes alocohol and does not have heart disease was found to be 20,636; indicating there is no much evidence to show consumption of alcohol causes heart disease."
   ]
  },
  {
   "cell_type": "code",
   "execution_count": 14,
   "metadata": {},
   "outputs": [
    {
     "name": "stdout",
     "output_type": "stream",
     "text": [
      "+------+------------+-----+\n",
      "|Stroke|HeartDisease|count|\n",
      "+------+------------+-----+\n",
      "|   Yes|         Yes| 4389|\n",
      "|   Yes|          No| 7680|\n",
      "+------+------------+-----+\n",
      "\n"
     ]
    }
   ],
   "source": [
    "# Analysis to check impact of stroke on heart disease\n",
    "data3=heart.groupBy('Stroke','HeartDisease').count()\n",
    "data3=data3.filter(col('Stroke').contains('Yes')).show()"
   ]
  },
  {
   "cell_type": "markdown",
   "metadata": {},
   "source": [
    "Results shows possibility of a person who had stroke is at the risk of having heart disease."
   ]
  },
  {
   "cell_type": "code",
   "execution_count": 15,
   "metadata": {
    "pixiedust": {
     "displayParams": {
      "clusterby": "HeartDisease",
      "handlerId": "barChart",
      "keyFields": "AgeCategory",
      "valueFields": "avg PhysicalHealth"
     }
    }
   },
   "outputs": [
    {
     "data": {
      "text/html": [
       "<style type=\"text/css\">.pd_warning{display:none;}</style><div class=\"pd_warning\"><em>Hey, there's something awesome here! To see it, open this notebook outside GitHub, in a viewer like Jupyter</em></div>\n",
       "        <div class=\"pd_save is-viewer-good\" style=\"padding-right:10px;text-align: center;line-height:initial !important;font-size: xx-large;font-weight: 500;color: coral;\">\n",
       "            \n",
       "        </div>\n",
       "    <div id=\"chartFiguref6665bd5\" class=\"pd_save is-viewer-good\" style=\"overflow-x:auto\">\n",
       "            \n",
       "                    \n",
       "                            <center><img style=\"max-width:initial !important\" src=\"data:image/png;base64,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\" class=\"pd_save\"></center>\n",
       "                        \n",
       "                    \n",
       "                \n",
       "        </div>"
      ],
      "text/plain": [
       "<IPython.core.display.HTML object>"
      ]
     },
     "metadata": {},
     "output_type": "display_data"
    }
   ],
   "source": [
    "# Analysis to check impact of physical health on heart disease\n",
    "data4=heart.groupBy('AgeCategory','HeartDisease').agg(avg('PhysicalHealth').alias('avg PhysicalHealth'))\n",
    "display(data4)"
   ]
  },
  {
   "cell_type": "markdown",
   "metadata": {},
   "source": [
    "On all age category, people with atleast 4 days of continous bad physical health is likely to have heart disease."
   ]
  },
  {
   "cell_type": "code",
   "execution_count": 12,
   "metadata": {
    "pixiedust": {
     "displayParams": {
      "clusterby": "HeartDisease",
      "handlerId": "barChart",
      "keyFields": "AgeCategory",
      "valueFields": "avg MentalHealth"
     }
    }
   },
   "outputs": [
    {
     "data": {
      "text/html": [
       "<style type=\"text/css\">.pd_warning{display:none;}</style><div class=\"pd_warning\"><em>Hey, there's something awesome here! To see it, open this notebook outside GitHub, in a viewer like Jupyter</em></div>\n",
       "        <div class=\"pd_save is-viewer-good\" style=\"padding-right:10px;text-align: center;line-height:initial !important;font-size: xx-large;font-weight: 500;color: coral;\">\n",
       "            \n",
       "        </div>\n",
       "    <div id=\"chartFigured6b19a90\" class=\"pd_save is-viewer-good\" style=\"overflow-x:auto\">\n",
       "            \n",
       "                    \n",
       "                            <center><img style=\"max-width:initial !important\" src=\"data:image/png;base64,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\" class=\"pd_save\"></center>\n",
       "                        \n",
       "                    \n",
       "                \n",
       "        </div>"
      ],
      "text/plain": [
       "<IPython.core.display.HTML object>"
      ]
     },
     "metadata": {},
     "output_type": "display_data"
    }
   ],
   "source": [
    "# Analysis to check impact of mental health on heart disease\n",
    "data5=heart.groupBy('AgeCategory','HeartDisease').agg(avg('MentalHealth').alias('avg MentalHealth'))\n",
    "display(data5)\n"
   ]
  },
  {
   "cell_type": "markdown",
   "metadata": {},
   "source": [
    "Analysis indicates mental health has impact on heart disease."
   ]
  },
  {
   "cell_type": "code",
   "execution_count": 17,
   "metadata": {},
   "outputs": [
    {
     "name": "stdout",
     "output_type": "stream",
     "text": [
      "+-----------+------------+-----+\n",
      "|DiffWalking|HeartDisease|count|\n",
      "+-----------+------------+-----+\n",
      "|        Yes|         Yes|10028|\n",
      "|        Yes|          No|34382|\n",
      "+-----------+------------+-----+\n",
      "\n"
     ]
    }
   ],
   "source": [
    "# Analysis to check impact of difficulty in walking on heart disease\n",
    "data6=heart.groupBy('DiffWalking','HeartDisease').count()\n",
    "data6=data6.filter(col('DiffWalking').contains('Yes')).show()\n"
   ]
  },
  {
   "cell_type": "markdown",
   "metadata": {},
   "source": [
    "Analysis indicates there is chance of heart disease for people having difficulty walking."
   ]
  },
  {
   "cell_type": "code",
   "execution_count": 18,
   "metadata": {},
   "outputs": [
    {
     "name": "stdout",
     "output_type": "stream",
     "text": [
      "+------+------------+------+\n",
      "|   Sex|HeartDisease| count|\n",
      "+------+------------+------+\n",
      "|  Male|          No|135851|\n",
      "|  Male|         Yes| 16139|\n",
      "|Female|          No|156571|\n",
      "|Female|         Yes| 11234|\n",
      "+------+------------+------+\n",
      "\n"
     ]
    }
   ],
   "source": [
    "# Analysis to check impact of gender on heart disease\n",
    "data7=heart.groupBy('Sex','HeartDisease').count()\n",
    "data7.show()"
   ]
  },
  {
   "cell_type": "markdown",
   "metadata": {},
   "source": [
    "Analysis indicates males are more likely to have heart disease compared to females."
   ]
  },
  {
   "cell_type": "code",
   "execution_count": 19,
   "metadata": {},
   "outputs": [
    {
     "name": "stdout",
     "output_type": "stream",
     "text": [
      "+--------------------+------------+-----+\n",
      "|                Race|HeartDisease|count|\n",
      "+--------------------+------------+-----+\n",
      "|               Black|         Yes| 1729|\n",
      "|               White|         Yes|22507|\n",
      "|               Asian|         Yes|  266|\n",
      "|American Indian/A...|         Yes|  542|\n",
      "|            Hispanic|         Yes| 1443|\n",
      "|               Other|         Yes|  886|\n",
      "+--------------------+------------+-----+\n",
      "\n"
     ]
    }
   ],
   "source": [
    "# Analysis to check impact of race on heart disease\n",
    "data8=heart.groupBy('Race','HeartDisease').count()\n",
    "data8=data8.filter(col('HeartDisease').contains('Yes')).show()"
   ]
  },
  {
   "cell_type": "markdown",
   "metadata": {},
   "source": [
    "Analysis indicates white people have much higher chance of having heart disease."
   ]
  },
  {
   "cell_type": "code",
   "execution_count": 20,
   "metadata": {},
   "outputs": [
    {
     "name": "stdout",
     "output_type": "stream",
     "text": [
      "+--------------------+------------+------+\n",
      "|            Diabetic|HeartDisease| count|\n",
      "+--------------------+------------+------+\n",
      "|                 Yes|         Yes|  8957|\n",
      "|                  No|          No|252134|\n",
      "|No, borderline di...|         Yes|   789|\n",
      "|                 Yes|          No| 31845|\n",
      "|Yes (during pregn...|          No|  2451|\n",
      "|                  No|         Yes| 17519|\n",
      "|Yes (during pregn...|         Yes|   108|\n",
      "|No, borderline di...|          No|  5992|\n",
      "+--------------------+------------+------+\n",
      "\n"
     ]
    }
   ],
   "source": [
    "# Analysis to check impact of diabetic on heart disease\n",
    "data9=heart.groupBy('Diabetic','HeartDisease').count()\n",
    "data9=data9.show()\n"
   ]
  },
  {
   "cell_type": "markdown",
   "metadata": {},
   "source": [
    "People who are not diabetic have less chance of having heart disease."
   ]
  },
  {
   "cell_type": "code",
   "execution_count": 21,
   "metadata": {},
   "outputs": [
    {
     "name": "stdout",
     "output_type": "stream",
     "text": [
      "+----------------+------------+------+\n",
      "|PhysicalActivity|HeartDisease| count|\n",
      "+----------------+------------+------+\n",
      "|             Yes|         Yes| 17489|\n",
      "|              No|          No| 61954|\n",
      "|             Yes|          No|230468|\n",
      "|              No|         Yes|  9884|\n",
      "+----------------+------------+------+\n",
      "\n"
     ]
    }
   ],
   "source": [
    "# Analysis to check impact of physical activity on heart disease\n",
    "data10=heart.groupBy('PhysicalActivity','HeartDisease').count()\n",
    "data10=data10.show()"
   ]
  },
  {
   "cell_type": "markdown",
   "metadata": {},
   "source": [
    "Analysis indicates people with physical activity is likely to have less chance of heart disease."
   ]
  },
  {
   "cell_type": "code",
   "execution_count": 22,
   "metadata": {},
   "outputs": [
    {
     "name": "stdout",
     "output_type": "stream",
     "text": [
      "+---------+------------+------+\n",
      "|GenHealth|HeartDisease| count|\n",
      "+---------+------------+------+\n",
      "|     Fair|          No| 27593|\n",
      "|     Poor|          No|  7439|\n",
      "|Excellent|          No| 65342|\n",
      "|     Good|          No| 83571|\n",
      "|Very good|          No|108477|\n",
      "+---------+------------+------+\n",
      "\n"
     ]
    }
   ],
   "source": [
    "# Analysis to check impact of general health on heart disease\n",
    "data8=heart.groupBy('GenHealth','HeartDisease').count()\n",
    "data8=data8.filter(col('HeartDisease').contains('No')).show()"
   ]
  },
  {
   "cell_type": "markdown",
   "metadata": {},
   "source": [
    "As the general health of a person increases, they are less likely to have heart disease."
   ]
  },
  {
   "cell_type": "code",
   "execution_count": null,
   "metadata": {
    "pixiedust": {
     "displayParams": {
      "clusterby": "HeartDisease",
      "handlerId": "barChart",
      "keyFields": "AgeCategory",
      "valueFields": "avg SleepTime"
     }
    }
   },
   "outputs": [
    {
     "data": {
      "text/html": [
       "<style type=\"text/css\">.pd_warning{display:none;}</style><div class=\"pd_warning\"><em>Hey, there's something awesome here! To see it, open this notebook outside GitHub, in a viewer like Jupyter</em></div>\n",
       "        <div class=\"pd_save is-viewer-good\" style=\"padding-right:10px;text-align: center;line-height:initial !important;font-size: xx-large;font-weight: 500;color: coral;\">\n",
       "            \n",
       "        </div>\n",
       "    <div id=\"chartFigure9e35ed96\" class=\"pd_save is-viewer-good\" style=\"overflow-x:auto\">\n",
       "            \n",
       "                    \n",
       "                            <center><img style=\"max-width:initial !important\" src=\"data:image/png;base64,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\" class=\"pd_save\"></center>\n",
       "                        \n",
       "                    \n",
       "                \n",
       "        </div>"
      ],
      "text/plain": [
       "<IPython.core.display.HTML object>"
      ]
     },
     "metadata": {},
     "output_type": "display_data"
    }
   ],
   "source": [
    "# Analysis to check impact of sleeping time on heart disease\n",
    "data5=heart.groupBy('AgeCategory','HeartDisease').agg(avg('SleepTime').alias('avg SleepTime'))\n",
    "display(data5)"
   ]
  },
  {
   "cell_type": "markdown",
   "metadata": {},
   "source": [
    "Except in early adolscent age, increase in average sleep time is likely to reduce the chance of an individual to develop heart disease."
   ]
  },
  {
   "cell_type": "code",
   "execution_count": 24,
   "metadata": {},
   "outputs": [
    {
     "name": "stdout",
     "output_type": "stream",
     "text": [
      "+------+------------+------+\n",
      "|Asthma|HeartDisease| count|\n",
      "+------+------------+------+\n",
      "|   Yes|         Yes|  4933|\n",
      "|    No|          No|254483|\n",
      "|   Yes|          No| 37939|\n",
      "|    No|         Yes| 22440|\n",
      "+------+------------+------+\n",
      "\n"
     ]
    }
   ],
   "source": [
    "# Analysis to check impact of asthma on heart disease\n",
    "data10=heart.groupBy('Asthma','HeartDisease').count()\n",
    "data10=data10.show()"
   ]
  },
  {
   "cell_type": "markdown",
   "metadata": {},
   "source": [
    "Analysis shows asthma does not really have impact on heart disease. "
   ]
  },
  {
   "cell_type": "code",
   "execution_count": 25,
   "metadata": {},
   "outputs": [
    {
     "name": "stdout",
     "output_type": "stream",
     "text": [
      "+-------------+------------+------+\n",
      "|KidneyDisease|HeartDisease| count|\n",
      "+-------------+------------+------+\n",
      "|          Yes|         Yes|  3455|\n",
      "|           No|          No|284098|\n",
      "|          Yes|          No|  8324|\n",
      "|           No|         Yes| 23918|\n",
      "+-------------+------------+------+\n",
      "\n"
     ]
    }
   ],
   "source": [
    "# Analysis to check impact of kidney disease on heart disease\n",
    "data10=heart.groupBy('KidneyDisease','HeartDisease').count()\n",
    "data10=data10.show()"
   ]
  },
  {
   "cell_type": "markdown",
   "metadata": {},
   "source": [
    "Analysis shows very few people have both kidney and heart disease, which shows they are not significantly related."
   ]
  },
  {
   "cell_type": "code",
   "execution_count": 26,
   "metadata": {},
   "outputs": [
    {
     "name": "stdout",
     "output_type": "stream",
     "text": [
      "+----------+------------+------+\n",
      "|SkinCancer|HeartDisease| count|\n",
      "+----------+------------+------+\n",
      "|       Yes|         Yes|  4980|\n",
      "|        No|          No|267583|\n",
      "|       Yes|          No| 24839|\n",
      "|        No|         Yes| 22393|\n",
      "+----------+------------+------+\n",
      "\n"
     ]
    }
   ],
   "source": [
    "# Analysis to check impact of skin cancer on heart disease\n",
    "data10=heart.groupBy('SkinCancer','HeartDisease').count()\n",
    "data10=data10.show()"
   ]
  },
  {
   "cell_type": "markdown",
   "metadata": {},
   "source": [
    "Analysis indicates very less people have both skin cancer and heart disease, which shows skin cancer doesnt have significant impact on heart disease."
   ]
  },
  {
   "cell_type": "markdown",
   "metadata": {},
   "source": [
    "### Based on above analytics, we have found smoking, alchohol drinking, asthma, kidney disease and skin cancer does not have significant impact on heart disease. So we are dropping these columns, for training the ML model. "
   ]
  },
  {
   "cell_type": "code",
   "execution_count": 27,
   "metadata": {},
   "outputs": [
    {
     "name": "stdout",
     "output_type": "stream",
     "text": [
      "root\n",
      " |-- HeartDisease: string (nullable = true)\n",
      " |-- BMI: double (nullable = true)\n",
      " |-- Stroke: string (nullable = true)\n",
      " |-- PhysicalHealth: double (nullable = true)\n",
      " |-- MentalHealth: double (nullable = true)\n",
      " |-- DiffWalking: string (nullable = true)\n",
      " |-- Sex: string (nullable = true)\n",
      " |-- AgeCategory: string (nullable = true)\n",
      " |-- Race: string (nullable = true)\n",
      " |-- Diabetic: string (nullable = true)\n",
      " |-- PhysicalActivity: string (nullable = true)\n",
      " |-- GenHealth: string (nullable = true)\n",
      " |-- SleepTime: double (nullable = true)\n",
      "\n"
     ]
    }
   ],
   "source": [
    "#dropping insignificant columns from dataframe\n",
    "heart_finalData=heart.drop('Smoking','AlcoholDrinking','Asthma','KidneyDisease','SkinCancer')\n",
    "heart_finalData.printSchema()"
   ]
  },
  {
   "cell_type": "markdown",
   "metadata": {},
   "source": [
    "# Data preprocessing for Machine Learning algorithms"
   ]
  },
  {
   "cell_type": "markdown",
   "metadata": {},
   "source": [
    "## String Indexer "
   ]
  },
  {
   "cell_type": "code",
   "execution_count": 28,
   "metadata": {},
   "outputs": [],
   "source": [
    "#importing String Indexer\n",
    "from pyspark.ml.feature import StringIndexer\n",
    "from pyspark.ml import Pipeline"
   ]
  },
  {
   "cell_type": "code",
   "execution_count": 29,
   "metadata": {},
   "outputs": [],
   "source": [
    "#list of categorical variables to convert\n",
    "category=['Stroke','DiffWalking','Sex','AgeCategory','Race','Diabetic',\\\n",
    "         'PhysicalActivity','GenHealth']"
   ]
  },
  {
   "cell_type": "code",
   "execution_count": 30,
   "metadata": {},
   "outputs": [
    {
     "name": "stdout",
     "output_type": "stream",
     "text": [
      "+------------+-----+------+--------------+------------+-----------+------+-----------+-----+--------------------+----------------+---------+---------+------------+-----------------+---------+-----------------+----------+--------------+----------------------+---------------+\n",
      "|HeartDisease|  BMI|Stroke|PhysicalHealth|MentalHealth|DiffWalking|   Sex|AgeCategory| Race|            Diabetic|PhysicalActivity|GenHealth|SleepTime|Stroke_index|DiffWalking_index|Sex_index|AgeCategory_index|Race_index|Diabetic_index|PhysicalActivity_index|GenHealth_index|\n",
      "+------------+-----+------+--------------+------------+-----------+------+-----------+-----+--------------------+----------------+---------+---------+------------+-----------------+---------+-----------------+----------+--------------+----------------------+---------------+\n",
      "|          No| 16.6|    No|           3.0|        30.0|         No|Female|      55-59|White|                 Yes|             Yes|Very good|      5.0|         0.0|              0.0|      0.0|              3.0|       0.0|           1.0|                   0.0|            0.0|\n",
      "|          No|20.34|   Yes|           0.0|         0.0|         No|Female|80 or older|White|                  No|             Yes|Very good|      7.0|         1.0|              0.0|      0.0|              5.0|       0.0|           0.0|                   0.0|            0.0|\n",
      "|          No|26.58|    No|          20.0|        30.0|         No|  Male|      65-69|White|                 Yes|             Yes|     Fair|      8.0|         0.0|              0.0|      1.0|              0.0|       0.0|           1.0|                   0.0|            3.0|\n",
      "|          No|24.21|    No|           0.0|         0.0|         No|Female|      75-79|White|                  No|              No|     Good|      6.0|         0.0|              0.0|      0.0|              7.0|       0.0|           0.0|                   1.0|            1.0|\n",
      "|          No|23.71|    No|          28.0|         0.0|        Yes|Female|      40-44|White|                  No|             Yes|Very good|      8.0|         0.0|              1.0|      0.0|              9.0|       0.0|           0.0|                   0.0|            0.0|\n",
      "|         Yes|28.87|    No|           6.0|         0.0|        Yes|Female|      75-79|Black|                  No|              No|     Fair|     12.0|         0.0|              1.0|      0.0|              7.0|       2.0|           0.0|                   1.0|            3.0|\n",
      "|          No|21.63|    No|          15.0|         0.0|         No|Female|      70-74|White|                  No|             Yes|     Fair|      4.0|         0.0|              0.0|      0.0|              2.0|       0.0|           0.0|                   0.0|            3.0|\n",
      "|          No|31.64|    No|           5.0|         0.0|        Yes|Female|80 or older|White|                 Yes|              No|     Good|      9.0|         0.0|              1.0|      0.0|              5.0|       0.0|           1.0|                   1.0|            1.0|\n",
      "|          No|26.45|    No|           0.0|         0.0|         No|Female|80 or older|White|No, borderline di...|              No|     Fair|      5.0|         0.0|              0.0|      0.0|              5.0|       0.0|           2.0|                   1.0|            3.0|\n",
      "|          No|40.69|    No|           0.0|         0.0|        Yes|  Male|      65-69|White|                  No|             Yes|     Good|     10.0|         0.0|              1.0|      1.0|              0.0|       0.0|           0.0|                   0.0|            1.0|\n",
      "|         Yes| 34.3|    No|          30.0|         0.0|        Yes|  Male|      60-64|White|                 Yes|              No|     Poor|     15.0|         0.0|              1.0|      1.0|              1.0|       0.0|           1.0|                   1.0|            4.0|\n",
      "|          No|28.71|    No|           0.0|         0.0|         No|Female|      55-59|White|                  No|             Yes|Very good|      5.0|         0.0|              0.0|      0.0|              3.0|       0.0|           0.0|                   0.0|            0.0|\n",
      "|          No|28.37|    No|           0.0|         0.0|        Yes|  Male|      75-79|White|                 Yes|             Yes|Very good|      8.0|         0.0|              1.0|      1.0|              7.0|       0.0|           1.0|                   0.0|            0.0|\n",
      "|          No|28.15|    No|           7.0|         0.0|        Yes|Female|80 or older|White|                  No|              No|     Good|      7.0|         0.0|              1.0|      0.0|              5.0|       0.0|           0.0|                   1.0|            1.0|\n",
      "|          No|29.29|    No|           0.0|        30.0|        Yes|Female|      60-64|White|                  No|              No|     Good|      5.0|         0.0|              1.0|      0.0|              1.0|       0.0|           0.0|                   1.0|            1.0|\n",
      "|          No|29.18|    No|           1.0|         0.0|         No|Female|      50-54|White|                  No|             Yes|Very good|      6.0|         0.0|              0.0|      0.0|              4.0|       0.0|           0.0|                   0.0|            0.0|\n",
      "|          No|26.26|    No|           5.0|         2.0|         No|Female|      70-74|White|                  No|              No|Very good|     10.0|         0.0|              0.0|      0.0|              2.0|       0.0|           0.0|                   1.0|            0.0|\n",
      "|          No|22.59|    No|           0.0|        30.0|        Yes|  Male|      70-74|White|No, borderline di...|             Yes|     Good|      8.0|         0.0|              1.0|      1.0|              2.0|       0.0|           2.0|                   0.0|            1.0|\n",
      "|          No|29.86|    No|           0.0|         0.0|        Yes|Female|      75-79|Black|                 Yes|              No|     Fair|      5.0|         0.0|              1.0|      0.0|              7.0|       2.0|           1.0|                   1.0|            3.0|\n",
      "|          No|18.13|    No|           0.0|         0.0|         No|  Male|80 or older|White|                  No|             Yes|Excellent|      8.0|         0.0|              0.0|      1.0|              5.0|       0.0|           0.0|                   0.0|            2.0|\n",
      "+------------+-----+------+--------------+------------+-----------+------+-----------+-----+--------------------+----------------+---------+---------+------------+-----------------+---------+-----------------+----------+--------------+----------------------+---------------+\n",
      "only showing top 20 rows\n",
      "\n"
     ]
    }
   ],
   "source": [
    "#Passing dataframe and the list of categorical variable to String Indexer for transformation\n",
    "indexers = [StringIndexer(inputCol=column, outputCol=column+\"_index\").fit(heart_finalData) for column in category]\n",
    "pipeline= Pipeline(stages=indexers)\n",
    "df_r = pipeline.fit(heart_finalData).transform(heart_finalData)\n",
    "df_r.show()            "
   ]
  },
  {
   "cell_type": "code",
   "execution_count": 31,
   "metadata": {},
   "outputs": [
    {
     "data": {
      "text/plain": [
       "[('HeartDisease', 'string'),\n",
       " ('BMI', 'double'),\n",
       " ('PhysicalHealth', 'double'),\n",
       " ('MentalHealth', 'double'),\n",
       " ('SleepTime', 'double'),\n",
       " ('Stroke_index', 'double'),\n",
       " ('DiffWalking_index', 'double'),\n",
       " ('Sex_index', 'double'),\n",
       " ('AgeCategory_index', 'double'),\n",
       " ('Race_index', 'double'),\n",
       " ('Diabetic_index', 'double'),\n",
       " ('PhysicalActivity_index', 'double'),\n",
       " ('GenHealth_index', 'double')]"
      ]
     },
     "execution_count": 31,
     "metadata": {},
     "output_type": "execute_result"
    }
   ],
   "source": [
    "#dropping the columns with datatype string\n",
    "df=df_r.drop(*category)\n",
    "#Print datatype of newly created columns after transformation\n",
    "df.dtypes"
   ]
  },
  {
   "cell_type": "markdown",
   "metadata": {},
   "source": [
    "## One Hot Encoder Estimator "
   ]
  },
  {
   "cell_type": "code",
   "execution_count": 32,
   "metadata": {},
   "outputs": [],
   "source": [
    "# importing OneHotEncoderEstimator\n",
    "from pyspark.ml.feature import OneHotEncoderEstimator"
   ]
  },
  {
   "cell_type": "code",
   "execution_count": 33,
   "metadata": {},
   "outputs": [],
   "source": [
    "# list of newly created numerical features to convert\n",
    "column=['Stroke_index','Race_index','DiffWalking_index','Diabetic_index',\\\n",
    "       'Sex_index','AgeCategory_index','Race_index','PhysicalActivity_index','GenHealth_index']"
   ]
  },
  {
   "cell_type": "code",
   "execution_count": 34,
   "metadata": {},
   "outputs": [],
   "source": [
    "#defining the input columns and output columns for onehotencoderestimator\n",
    "encoder= OneHotEncoderEstimator(inputCols=['Stroke_index','DiffWalking_index','Diabetic_index','Sex_index',\\\n",
    "                                           'AgeCategory_index','Race_index','PhysicalActivity_index',\\\n",
    "                                           'GenHealth_index'],\\\n",
    "                                outputCols=['Stroke_vec','DiffWalking_vec','Diabetic_vec','Sex_vec',\\\n",
    "                                            'AgeCategory_vec','Race_vec','PhysicalActivity_vec','GenHealth_vec'])"
   ]
  },
  {
   "cell_type": "code",
   "execution_count": 35,
   "metadata": {},
   "outputs": [
    {
     "name": "stdout",
     "output_type": "stream",
     "text": [
      "+------------+-----+--------------+------------+---------+-------------+---------------+-------------+-------------+-------------+---------------+--------------------+-------------+\n",
      "|HeartDisease|  BMI|PhysicalHealth|MentalHealth|SleepTime|     Race_vec|AgeCategory_vec|   Stroke_vec|GenHealth_vec|      Sex_vec|DiffWalking_vec|PhysicalActivity_vec| Diabetic_vec|\n",
      "+------------+-----+--------------+------------+---------+-------------+---------------+-------------+-------------+-------------+---------------+--------------------+-------------+\n",
      "|          No| 16.6|           3.0|        30.0|      5.0|(5,[0],[1.0])| (12,[3],[1.0])|(1,[0],[1.0])|(4,[0],[1.0])|(1,[0],[1.0])|  (1,[0],[1.0])|       (1,[0],[1.0])|(3,[1],[1.0])|\n",
      "|          No|20.34|           0.0|         0.0|      7.0|(5,[0],[1.0])| (12,[5],[1.0])|    (1,[],[])|(4,[0],[1.0])|(1,[0],[1.0])|  (1,[0],[1.0])|       (1,[0],[1.0])|(3,[0],[1.0])|\n",
      "|          No|26.58|          20.0|        30.0|      8.0|(5,[0],[1.0])| (12,[0],[1.0])|(1,[0],[1.0])|(4,[3],[1.0])|    (1,[],[])|  (1,[0],[1.0])|       (1,[0],[1.0])|(3,[1],[1.0])|\n",
      "|          No|24.21|           0.0|         0.0|      6.0|(5,[0],[1.0])| (12,[7],[1.0])|(1,[0],[1.0])|(4,[1],[1.0])|(1,[0],[1.0])|  (1,[0],[1.0])|           (1,[],[])|(3,[0],[1.0])|\n",
      "|          No|23.71|          28.0|         0.0|      8.0|(5,[0],[1.0])| (12,[9],[1.0])|(1,[0],[1.0])|(4,[0],[1.0])|(1,[0],[1.0])|      (1,[],[])|       (1,[0],[1.0])|(3,[0],[1.0])|\n",
      "|         Yes|28.87|           6.0|         0.0|     12.0|(5,[2],[1.0])| (12,[7],[1.0])|(1,[0],[1.0])|(4,[3],[1.0])|(1,[0],[1.0])|      (1,[],[])|           (1,[],[])|(3,[0],[1.0])|\n",
      "|          No|21.63|          15.0|         0.0|      4.0|(5,[0],[1.0])| (12,[2],[1.0])|(1,[0],[1.0])|(4,[3],[1.0])|(1,[0],[1.0])|  (1,[0],[1.0])|       (1,[0],[1.0])|(3,[0],[1.0])|\n",
      "|          No|31.64|           5.0|         0.0|      9.0|(5,[0],[1.0])| (12,[5],[1.0])|(1,[0],[1.0])|(4,[1],[1.0])|(1,[0],[1.0])|      (1,[],[])|           (1,[],[])|(3,[1],[1.0])|\n",
      "|          No|26.45|           0.0|         0.0|      5.0|(5,[0],[1.0])| (12,[5],[1.0])|(1,[0],[1.0])|(4,[3],[1.0])|(1,[0],[1.0])|  (1,[0],[1.0])|           (1,[],[])|(3,[2],[1.0])|\n",
      "|          No|40.69|           0.0|         0.0|     10.0|(5,[0],[1.0])| (12,[0],[1.0])|(1,[0],[1.0])|(4,[1],[1.0])|    (1,[],[])|      (1,[],[])|       (1,[0],[1.0])|(3,[0],[1.0])|\n",
      "|         Yes| 34.3|          30.0|         0.0|     15.0|(5,[0],[1.0])| (12,[1],[1.0])|(1,[0],[1.0])|    (4,[],[])|    (1,[],[])|      (1,[],[])|           (1,[],[])|(3,[1],[1.0])|\n",
      "|          No|28.71|           0.0|         0.0|      5.0|(5,[0],[1.0])| (12,[3],[1.0])|(1,[0],[1.0])|(4,[0],[1.0])|(1,[0],[1.0])|  (1,[0],[1.0])|       (1,[0],[1.0])|(3,[0],[1.0])|\n",
      "|          No|28.37|           0.0|         0.0|      8.0|(5,[0],[1.0])| (12,[7],[1.0])|(1,[0],[1.0])|(4,[0],[1.0])|    (1,[],[])|      (1,[],[])|       (1,[0],[1.0])|(3,[1],[1.0])|\n",
      "|          No|28.15|           7.0|         0.0|      7.0|(5,[0],[1.0])| (12,[5],[1.0])|(1,[0],[1.0])|(4,[1],[1.0])|(1,[0],[1.0])|      (1,[],[])|           (1,[],[])|(3,[0],[1.0])|\n",
      "|          No|29.29|           0.0|        30.0|      5.0|(5,[0],[1.0])| (12,[1],[1.0])|(1,[0],[1.0])|(4,[1],[1.0])|(1,[0],[1.0])|      (1,[],[])|           (1,[],[])|(3,[0],[1.0])|\n",
      "|          No|29.18|           1.0|         0.0|      6.0|(5,[0],[1.0])| (12,[4],[1.0])|(1,[0],[1.0])|(4,[0],[1.0])|(1,[0],[1.0])|  (1,[0],[1.0])|       (1,[0],[1.0])|(3,[0],[1.0])|\n",
      "|          No|26.26|           5.0|         2.0|     10.0|(5,[0],[1.0])| (12,[2],[1.0])|(1,[0],[1.0])|(4,[0],[1.0])|(1,[0],[1.0])|  (1,[0],[1.0])|           (1,[],[])|(3,[0],[1.0])|\n",
      "|          No|22.59|           0.0|        30.0|      8.0|(5,[0],[1.0])| (12,[2],[1.0])|(1,[0],[1.0])|(4,[1],[1.0])|    (1,[],[])|      (1,[],[])|       (1,[0],[1.0])|(3,[2],[1.0])|\n",
      "|          No|29.86|           0.0|         0.0|      5.0|(5,[2],[1.0])| (12,[7],[1.0])|(1,[0],[1.0])|(4,[3],[1.0])|(1,[0],[1.0])|      (1,[],[])|           (1,[],[])|(3,[1],[1.0])|\n",
      "|          No|18.13|           0.0|         0.0|      8.0|(5,[0],[1.0])| (12,[5],[1.0])|(1,[0],[1.0])|(4,[2],[1.0])|    (1,[],[])|  (1,[0],[1.0])|       (1,[0],[1.0])|(3,[0],[1.0])|\n",
      "+------------+-----+--------------+------------+---------+-------------+---------------+-------------+-------------+-------------+---------------+--------------------+-------------+\n",
      "only showing top 20 rows\n",
      "\n"
     ]
    }
   ],
   "source": [
    "#fit and transform of dataframe df with onehotencoder model  \n",
    "model=encoder.fit(df)\n",
    "encoded=model.transform(df)\n",
    "#dropping previously created numerical values with String Indexer\n",
    "encoded=encoded.drop(*column)\n",
    "encoded.show()"
   ]
  },
  {
   "cell_type": "code",
   "execution_count": 36,
   "metadata": {},
   "outputs": [
    {
     "data": {
      "text/plain": [
       "[('HeartDisease', 'string'),\n",
       " ('BMI', 'double'),\n",
       " ('PhysicalHealth', 'double'),\n",
       " ('MentalHealth', 'double'),\n",
       " ('SleepTime', 'double'),\n",
       " ('Race_vec', 'vector'),\n",
       " ('AgeCategory_vec', 'vector'),\n",
       " ('Stroke_vec', 'vector'),\n",
       " ('GenHealth_vec', 'vector'),\n",
       " ('Sex_vec', 'vector'),\n",
       " ('DiffWalking_vec', 'vector'),\n",
       " ('PhysicalActivity_vec', 'vector'),\n",
       " ('Diabetic_vec', 'vector')]"
      ]
     },
     "execution_count": 36,
     "metadata": {},
     "output_type": "execute_result"
    }
   ],
   "source": [
    "#display datatypes of newly created features\n",
    "encoded.dtypes"
   ]
  },
  {
   "cell_type": "markdown",
   "metadata": {},
   "source": [
    "## Vector Assembler"
   ]
  },
  {
   "cell_type": "code",
   "execution_count": 37,
   "metadata": {},
   "outputs": [],
   "source": [
    "#importing vector assembler\n",
    "from pyspark.ml.feature import VectorAssembler"
   ]
  },
  {
   "cell_type": "code",
   "execution_count": 38,
   "metadata": {},
   "outputs": [],
   "source": [
    "# list of assembler inputs\n",
    "assemblerInputs=['BMI','PhysicalHealth','MentalHealth','SleepTime','Race_vec','AgeCategory_vec','GenHealth_vec',\\\n",
    "                 'Sex_vec','DiffWalking_vec','PhysicalActivity_vec','Diabetic_vec','Stroke_vec']"
   ]
  },
  {
   "cell_type": "code",
   "execution_count": 39,
   "metadata": {},
   "outputs": [
    {
     "name": "stdout",
     "output_type": "stream",
     "text": [
      "+------------+-----+--------------+------------+---------+-------------+---------------+-------------+-------------+-------------+---------------+--------------------+-------------+--------------------+\n",
      "|HeartDisease|  BMI|PhysicalHealth|MentalHealth|SleepTime|     Race_vec|AgeCategory_vec|   Stroke_vec|GenHealth_vec|      Sex_vec|DiffWalking_vec|PhysicalActivity_vec| Diabetic_vec|            features|\n",
      "+------------+-----+--------------+------------+---------+-------------+---------------+-------------+-------------+-------------+---------------+--------------------+-------------+--------------------+\n",
      "|          No| 16.6|           3.0|        30.0|      5.0|(5,[0],[1.0])| (12,[3],[1.0])|(1,[0],[1.0])|(4,[0],[1.0])|(1,[0],[1.0])|  (1,[0],[1.0])|       (1,[0],[1.0])|(3,[1],[1.0])|(32,[0,1,2,3,4,12...|\n",
      "|          No|20.34|           0.0|         0.0|      7.0|(5,[0],[1.0])| (12,[5],[1.0])|    (1,[],[])|(4,[0],[1.0])|(1,[0],[1.0])|  (1,[0],[1.0])|       (1,[0],[1.0])|(3,[0],[1.0])|(32,[0,3,4,14,21,...|\n",
      "|          No|26.58|          20.0|        30.0|      8.0|(5,[0],[1.0])| (12,[0],[1.0])|(1,[0],[1.0])|(4,[3],[1.0])|    (1,[],[])|  (1,[0],[1.0])|       (1,[0],[1.0])|(3,[1],[1.0])|(32,[0,1,2,3,4,9,...|\n",
      "|          No|24.21|           0.0|         0.0|      6.0|(5,[0],[1.0])| (12,[7],[1.0])|(1,[0],[1.0])|(4,[1],[1.0])|(1,[0],[1.0])|  (1,[0],[1.0])|           (1,[],[])|(3,[0],[1.0])|(32,[0,3,4,16,22,...|\n",
      "|          No|23.71|          28.0|         0.0|      8.0|(5,[0],[1.0])| (12,[9],[1.0])|(1,[0],[1.0])|(4,[0],[1.0])|(1,[0],[1.0])|      (1,[],[])|       (1,[0],[1.0])|(3,[0],[1.0])|(32,[0,1,3,4,18,2...|\n",
      "+------------+-----+--------------+------------+---------+-------------+---------------+-------------+-------------+-------------+---------------+--------------------+-------------+--------------------+\n",
      "only showing top 5 rows\n",
      "\n"
     ]
    }
   ],
   "source": [
    "#passing dataframe into vector assembler to convert features into vectors\n",
    "vector_assembler= VectorAssembler(inputCols=assemblerInputs,outputCol='features')\n",
    "assembler_temp= vector_assembler.transform(encoded)\n",
    "assembler_temp.show(5)"
   ]
  },
  {
   "cell_type": "code",
   "execution_count": 40,
   "metadata": {},
   "outputs": [
    {
     "data": {
      "text/plain": [
       "[Row(HeartDisease='No', features=SparseVector(32, {0: 16.6, 1: 3.0, 2: 30.0, 3: 5.0, 4: 1.0, 12: 1.0, 21: 1.0, 25: 1.0, 26: 1.0, 27: 1.0, 29: 1.0, 31: 1.0}))]"
      ]
     },
     "execution_count": 40,
     "metadata": {},
     "output_type": "execute_result"
    }
   ],
   "source": [
    "#dropping all features, except features in vector form\n",
    "assembler=assembler_temp.drop('BMI','PhysicalHealth','MentalHealth','SleepTime','Race_vec','AgeCategory_vec',\\\n",
    "                              'GenHealth_vec','Sex_vec','DiffWalking_vec','PhysicalActivity_vec',\\\n",
    "                              'Diabetic_vec','Stroke_vec')\n",
    "assembler.take(1)"
   ]
  },
  {
   "cell_type": "markdown",
   "metadata": {},
   "source": [
    "## Transforming Target Categorical Variable "
   ]
  },
  {
   "cell_type": "code",
   "execution_count": 41,
   "metadata": {},
   "outputs": [
    {
     "name": "stdout",
     "output_type": "stream",
     "text": [
      "+--------------------+----------+\n",
      "|            features|labelIndex|\n",
      "+--------------------+----------+\n",
      "|(32,[0,1,2,3,4,12...|       0.0|\n",
      "|(32,[0,3,4,14,21,...|       0.0|\n",
      "|(32,[0,1,2,3,4,9,...|       0.0|\n",
      "|(32,[0,3,4,16,22,...|       0.0|\n",
      "|(32,[0,1,3,4,18,2...|       0.0|\n",
      "+--------------------+----------+\n",
      "only showing top 5 rows\n",
      "\n"
     ]
    }
   ],
   "source": [
    "#converting categorical target variable to numerical form\n",
    "label_indexer= StringIndexer(inputCol='HeartDisease', outputCol=\"labelIndex\")\n",
    "ml_dataset=label_indexer.fit(assembler).transform(assembler)\n",
    "ml_dataset=ml_dataset.drop('HeartDisease')\n",
    "ml_dataset.show(5)"
   ]
  },
  {
   "cell_type": "markdown",
   "metadata": {},
   "source": [
    "## Creating Train and Test Dataset "
   ]
  },
  {
   "cell_type": "code",
   "execution_count": 42,
   "metadata": {},
   "outputs": [],
   "source": [
    "(trainDataset,testDataset)=ml_dataset.randomSplit([0.7,0.3])"
   ]
  },
  {
   "cell_type": "code",
   "execution_count": 43,
   "metadata": {},
   "outputs": [
    {
     "name": "stdout",
     "output_type": "stream",
     "text": [
      "+--------------------+----------+\n",
      "|            features|labelIndex|\n",
      "+--------------------+----------+\n",
      "|(32,[0,1,2,3,4,9,...|       0.0|\n",
      "|(32,[0,1,2,3,4,9,...|       0.0|\n",
      "|(32,[0,1,2,3,4,9,...|       0.0|\n",
      "+--------------------+----------+\n",
      "only showing top 3 rows\n",
      "\n"
     ]
    }
   ],
   "source": [
    "testDataset.show(3)"
   ]
  },
  {
   "cell_type": "code",
   "execution_count": 44,
   "metadata": {},
   "outputs": [
    {
     "name": "stdout",
     "output_type": "stream",
     "text": [
      "+--------------------+----------+\n",
      "|            features|labelIndex|\n",
      "+--------------------+----------+\n",
      "|(32,[0,1,2,3,4,9,...|       0.0|\n",
      "|(32,[0,1,2,3,4,9,...|       0.0|\n",
      "|(32,[0,1,2,3,4,9,...|       0.0|\n",
      "+--------------------+----------+\n",
      "only showing top 3 rows\n",
      "\n"
     ]
    }
   ],
   "source": [
    "trainDataset.show(3)"
   ]
  },
  {
   "cell_type": "markdown",
   "metadata": {},
   "source": [
    "# Machine Learning using Logistic Regression"
   ]
  },
  {
   "cell_type": "code",
   "execution_count": 45,
   "metadata": {},
   "outputs": [],
   "source": [
    "from pyspark.ml.classification import LogisticRegression"
   ]
  },
  {
   "cell_type": "code",
   "execution_count": 46,
   "metadata": {},
   "outputs": [],
   "source": [
    "from pyspark.ml.evaluation import MulticlassClassificationEvaluator"
   ]
  },
  {
   "cell_type": "code",
   "execution_count": 47,
   "metadata": {},
   "outputs": [],
   "source": [
    "log_reg= LogisticRegression(labelCol='labelIndex',featuresCol='features',maxIter=40)\n",
    "model=log_reg.fit(trainDataset)"
   ]
  },
  {
   "cell_type": "code",
   "execution_count": 48,
   "metadata": {},
   "outputs": [],
   "source": [
    "prediction_test=model.transform(testDataset)\n"
   ]
  },
  {
   "cell_type": "code",
   "execution_count": 49,
   "metadata": {},
   "outputs": [
    {
     "name": "stdout",
     "output_type": "stream",
     "text": [
      "+--------------------+----------+--------------------+--------------------+----------+\n",
      "|            features|labelIndex|       rawPrediction|         probability|prediction|\n",
      "+--------------------+----------+--------------------+--------------------+----------+\n",
      "|(32,[0,1,2,3,4,9,...|       0.0|[3.06876493462307...|[0.95558578375261...|       0.0|\n",
      "|(32,[0,1,2,3,4,9,...|       0.0|[3.13579408135110...|[0.95834530548070...|       0.0|\n",
      "|(32,[0,1,2,3,4,9,...|       0.0|[3.25018395115179...|[0.96267972211874...|       0.0|\n",
      "|(32,[0,1,2,3,4,9,...|       0.0|[3.23129797387705...|[0.96199523584264...|       0.0|\n",
      "|(32,[0,1,2,3,4,9,...|       0.0|[3.19764352300814...|[0.96074550244207...|       0.0|\n",
      "|(32,[0,1,2,3,4,9,...|       0.0|[3.07565698347605...|[0.95587737655723...|       0.0|\n",
      "|(32,[0,1,2,3,4,9,...|       0.0|[3.22842744510391...|[0.96189014886547...|       0.0|\n",
      "|(32,[0,1,2,3,4,9,...|       0.0|[3.18224524044876...|[0.96016064019059...|       0.0|\n",
      "|(32,[0,1,2,3,4,9,...|       0.0|[3.14637339105208...|[0.95876558524389...|       0.0|\n",
      "|(32,[0,1,2,3,4,9,...|       0.0|[3.17667451124971...|[0.95994700052756...|       0.0|\n",
      "|(32,[0,1,2,3,4,9,...|       0.0|[3.06083592480982...|[0.95524804568343...|       0.0|\n",
      "|(32,[0,1,2,3,4,9,...|       0.0|[3.15698236574331...|[0.95918296658795...|       0.0|\n",
      "|(32,[0,1,2,3,4,9,...|       0.0|[3.10807681186823...|[0.95722467891029...|       0.0|\n",
      "|(32,[0,1,2,3,4,9,...|       0.0|[3.05471907415735...|[0.95498582572593...|       0.0|\n",
      "|(32,[0,1,2,3,4,9,...|       0.0|[3.16705505516011...|[0.95957550359954...|       0.0|\n",
      "|(32,[0,1,2,3,4,9,...|       0.0|[3.16249234786487...|[0.95939814295565...|       0.0|\n",
      "|(32,[0,1,2,3,4,9,...|       0.0|[3.04589981160628...|[0.95460517923359...|       0.0|\n",
      "|(32,[0,1,2,3,4,9,...|       0.0|[3.10087230561288...|[0.95692871247306...|       0.0|\n",
      "|(32,[0,1,2,3,4,9,...|       0.0|[3.05431324940180...|[0.95496837695099...|       0.0|\n",
      "|(32,[0,1,2,3,4,9,...|       0.0|[2.59769718778574...|[0.93071322745071...|       0.0|\n",
      "+--------------------+----------+--------------------+--------------------+----------+\n",
      "only showing top 20 rows\n",
      "\n"
     ]
    }
   ],
   "source": [
    "prediction_test.show(20)"
   ]
  },
  {
   "cell_type": "code",
   "execution_count": 50,
   "metadata": {},
   "outputs": [
    {
     "name": "stdout",
     "output_type": "stream",
     "text": [
      "Accuracy= 0.9143372877995847\n"
     ]
    }
   ],
   "source": [
    "evaluator=MulticlassClassificationEvaluator(labelCol='labelIndex',predictionCol='prediction',metricName='accuracy')\n",
    "accuracy_LR=evaluator.evaluate(prediction_test)\n",
    "print(\"Accuracy=\",accuracy_LR)"
   ]
  },
  {
   "cell_type": "code",
   "execution_count": 51,
   "metadata": {},
   "outputs": [
    {
     "name": "stdout",
     "output_type": "stream",
     "text": [
      "+----------+-----+\n",
      "|prediction|count|\n",
      "+----------+-----+\n",
      "|       0.0|94291|\n",
      "|       1.0| 1550|\n",
      "+----------+-----+\n",
      "\n"
     ]
    }
   ],
   "source": [
    "prediction_test.groupBy('prediction').count().show()"
   ]
  },
  {
   "cell_type": "code",
   "execution_count": 52,
   "metadata": {},
   "outputs": [
    {
     "name": "stdout",
     "output_type": "stream",
     "text": [
      "+----------+-----+\n",
      "|labelIndex|count|\n",
      "+----------+-----+\n",
      "|       0.0|87563|\n",
      "|       1.0| 8278|\n",
      "+----------+-----+\n",
      "\n"
     ]
    }
   ],
   "source": [
    "prediction_test.groupBy('labelIndex').count().show()"
   ]
  },
  {
   "cell_type": "markdown",
   "metadata": {},
   "source": [
    "# Machine Learning using NaiveBayes"
   ]
  },
  {
   "cell_type": "code",
   "execution_count": 53,
   "metadata": {},
   "outputs": [],
   "source": [
    "from pyspark.ml.classification import NaiveBayes"
   ]
  },
  {
   "cell_type": "code",
   "execution_count": 54,
   "metadata": {},
   "outputs": [],
   "source": [
    "naive_bayes= NaiveBayes(labelCol='labelIndex',featuresCol='features',smoothing=1.0)\n",
    "model=naive_bayes.fit(trainDataset)"
   ]
  },
  {
   "cell_type": "code",
   "execution_count": 55,
   "metadata": {},
   "outputs": [],
   "source": [
    "prediction_test=model.transform(testDataset)"
   ]
  },
  {
   "cell_type": "code",
   "execution_count": 56,
   "metadata": {},
   "outputs": [
    {
     "name": "stdout",
     "output_type": "stream",
     "text": [
      "+--------------------+----------+--------------------+--------------------+----------+\n",
      "|            features|labelIndex|       rawPrediction|         probability|prediction|\n",
      "+--------------------+----------+--------------------+--------------------+----------+\n",
      "|(32,[0,1,2,3,4,9,...|       0.0|[-219.45133105925...|[9.61425047159296...|       1.0|\n",
      "|(32,[0,1,2,3,4,9,...|       0.0|[-137.23667137638...|[0.96765511815618...|       0.0|\n",
      "|(32,[0,1,2,3,4,9,...|       0.0|[-73.610079120530...|[0.99542677818418...|       0.0|\n",
      "|(32,[0,1,2,3,4,9,...|       0.0|[-72.135176700651...|[0.99836897506771...|       0.0|\n",
      "|(32,[0,1,2,3,4,9,...|       0.0|[-72.845298313189...|[0.99807270036465...|       0.0|\n",
      "+--------------------+----------+--------------------+--------------------+----------+\n",
      "only showing top 5 rows\n",
      "\n"
     ]
    }
   ],
   "source": [
    "prediction_test.show(5)"
   ]
  },
  {
   "cell_type": "code",
   "execution_count": 57,
   "metadata": {},
   "outputs": [
    {
     "name": "stdout",
     "output_type": "stream",
     "text": [
      "Accuracy= 0.8384824866184618\n"
     ]
    }
   ],
   "source": [
    "evaluator=MulticlassClassificationEvaluator(labelCol='labelIndex',predictionCol='prediction',metricName='accuracy')\n",
    "accuracy_NB=evaluator.evaluate(prediction_test)\n",
    "print(\"Accuracy=\",accuracy_NB)"
   ]
  },
  {
   "cell_type": "markdown",
   "metadata": {},
   "source": [
    "# Machine Learning using Random Forest Classifier"
   ]
  },
  {
   "cell_type": "code",
   "execution_count": 58,
   "metadata": {},
   "outputs": [],
   "source": [
    "from pyspark.ml.classification import RandomForestClassifier"
   ]
  },
  {
   "cell_type": "code",
   "execution_count": 59,
   "metadata": {},
   "outputs": [],
   "source": [
    "random_forest_class= RandomForestClassifier(labelCol='labelIndex',featuresCol='features',numTrees=70)\n",
    "model=random_forest_class.fit(trainDataset)"
   ]
  },
  {
   "cell_type": "code",
   "execution_count": 60,
   "metadata": {},
   "outputs": [],
   "source": [
    "prediction_test=model.transform(testDataset)"
   ]
  },
  {
   "cell_type": "code",
   "execution_count": 61,
   "metadata": {},
   "outputs": [
    {
     "name": "stdout",
     "output_type": "stream",
     "text": [
      "+--------------------+----------+--------------------+--------------------+----------+\n",
      "|            features|labelIndex|       rawPrediction|         probability|prediction|\n",
      "+--------------------+----------+--------------------+--------------------+----------+\n",
      "|(32,[0,1,2,3,4,9,...|       0.0|[64.4377706989768...|[0.92053958141395...|       0.0|\n",
      "|(32,[0,1,2,3,4,9,...|       0.0|[65.3950605386684...|[0.93421515055240...|       0.0|\n",
      "|(32,[0,1,2,3,4,9,...|       0.0|[65.3950605386684...|[0.93421515055240...|       0.0|\n",
      "|(32,[0,1,2,3,4,9,...|       0.0|[65.3950605386684...|[0.93421515055240...|       0.0|\n",
      "|(32,[0,1,2,3,4,9,...|       0.0|[65.3950605386684...|[0.93421515055240...|       0.0|\n",
      "+--------------------+----------+--------------------+--------------------+----------+\n",
      "only showing top 5 rows\n",
      "\n"
     ]
    }
   ],
   "source": [
    "prediction_test.show(5)"
   ]
  },
  {
   "cell_type": "code",
   "execution_count": 62,
   "metadata": {},
   "outputs": [
    {
     "name": "stdout",
     "output_type": "stream",
     "text": [
      "Accuracy= 0.91362777934287\n"
     ]
    }
   ],
   "source": [
    "evaluator=MulticlassClassificationEvaluator(labelCol='labelIndex',predictionCol='prediction',metricName='accuracy')\n",
    "accuracy_RF=evaluator.evaluate(prediction_test)\n",
    "print(\"Accuracy=\",accuracy_RF)"
   ]
  },
  {
   "cell_type": "markdown",
   "metadata": {},
   "source": [
    "# Comparison of accuracy for different ML Algorithms"
   ]
  },
  {
   "cell_type": "code",
   "execution_count": 63,
   "metadata": {},
   "outputs": [
    {
     "name": "stdout",
     "output_type": "stream",
     "text": [
      "+------------------------+----------------+\n",
      "|Algorithm               |Accuracy_Percent|\n",
      "+------------------------+----------------+\n",
      "|Logistic Regression     |91.43           |\n",
      "|NaiveBayes              |83.85           |\n",
      "|Random Forest Classifier|91.36           |\n",
      "+------------------------+----------------+\n",
      "\n"
     ]
    }
   ],
   "source": [
    "acc=spark.createDataFrame([('Logistic Regression',accuracy_LR*100),('NaiveBayes',accuracy_NB*100),\\\n",
    "                           ('Random Forest Classifier',accuracy_RF*100)],['Algorithm','Accuracy_Percent'])\n",
    "acc = acc.withColumn(\"Accuracy_Percent\", func.round(acc[\"Accuracy_Percent\"], 2))\n",
    "acc.show(25,False)"
   ]
  },
  {
   "cell_type": "code",
   "execution_count": null,
   "metadata": {
    "pixiedust": {
     "displayParams": {
      "handlerId": "barChart",
      "keyFields": "Algorithm",
      "valueFields": "Accuracy_Percent"
     }
    }
   },
   "outputs": [
    {
     "data": {
      "text/html": [
       "<style type=\"text/css\">.pd_warning{display:none;}</style><div class=\"pd_warning\"><em>Hey, there's something awesome here! To see it, open this notebook outside GitHub, in a viewer like Jupyter</em></div>\n",
       "        <div class=\"pd_save is-viewer-good\" style=\"padding-right:10px;text-align: center;line-height:initial !important;font-size: xx-large;font-weight: 500;color: coral;\">\n",
       "            \n",
       "        </div>\n",
       "    <div id=\"chartFigure415e0dd7\" class=\"pd_save is-viewer-good\" style=\"overflow-x:auto\">\n",
       "            \n",
       "                    \n",
       "                            <center><img style=\"max-width:initial !important\" src=\"data:image/png;base64,iVBORw0KGgoAAAANSUhEUgAAAsEAAAHOCAYAAAB5D9Q8AAAABHNCSVQICAgIfAhkiAAAAAlwSFlzAAAOwwAADsMBx2+oZAAAADh0RVh0U29mdHdhcmUAbWF0cGxvdGxpYiB2ZXJzaW9uMy4xLjAsIGh0dHA6Ly9tYXRwbG90bGliLm9yZy+17YcXAAAgAElEQVR4nO3deZyNdf/H8fdh9hnDGMNgrDPW7CYmW0RU7pioiLKVu/gpkhYhQ9x3iqy5k22MpUgiWzclpSZj35KlrHe/0UxzU2QwzPf3h4fr5zSLMYwp39fz8TiPh3N9r+VzHee6znu+53tdx2WMMQIAAAAsUiC/CwAAAABuNUIwAAAArOOR3wUAsEd6erouXLggRmEhv7lcLnl7e8vlcuV3KQDyCSEYQJ4zxug///mPkpKS8rsUwFGwYEFVr15dXl5e+V0KgHzg4sI4AHnt+PHjSkpKUpkyZRQQEEDvG/Jdenq6Dh8+LG9vb0VERPCeBCxECAaQp9LT07V9+3aVKVNGxYsXz+9yAMfJkyd16NAhBQQEKDw8XB4efDkK2IQL4wDkqQsXLkiSAgIC8rkSwJ23t7ckae3atfriiy908eLFfK4IwK1ECAaQp6582cTXzfizufKeDAoK0tatW7Vr1658rgjArUQIBgBYzdvbWwUKFFBKSkp+lwLgFiIEAwCsV6BAAWfoDgA7cBUAgHzjco24JdsxZniulouNjdWTTz6p4cOH67XXXrvJVf01NG/eXF9++aUkyd/fX9WrV9frr7+uNm3a5HNl2WvSpIlatWqlmJiY/C4FwJ8UPcEAkIW4uDgNGDBAcXFx+VbD+fPn823bVwwYMECJiYnavn276tWrp/bt2+uHH37I1br+DPsDABIhGAAydezYMW3ZskWvv/66jDH6+uuv3donTZqkiIgIeXt7q2LFipoxY4bTtnXrVt1zzz3y8/NT0aJFFR0d7bS5XC599tlnzvMjR47I5XI5oTI2NlZhYWFasGCBwsPDFRISIkmaOXOm6tSpI39/f5UrV07Dhg3LcDeDzGo6d+6cgoKCtGrVKrd5hw0bpubNm+fotfD391doaKgqVaqkKVOmqGDBgs4+XLp0ScOGDVNYWJgKFSqk5s2bu11gFhMToyZNmmj8+PEqXbq0IiMjJUm///67+vXrp9DQUPn6+qpevXpKSEhwlvvggw9UvXp1+fr6qkaNGlq8eLHTtn79erlcLn3++eeqXr26ChUqpOjoaJ08eVKS1KNHD33zzTcaMWKEXC6Xypcvn6P9BGAXhkMAQCbi4uL04IMPys/PT506ddKcOXPUpEkTSdL06dM1dOhQTZw4Uc2aNdOxY8eUnJwsSUpOTlbLli318MMPa+LEiZKUIYBeyy+//KLZs2dr8eLF8vT0lHT5fstjx45VeHi49u3bp169eqlkyZLq27dvtjX5+PioU6dOmjt3rh544AFJl+/YMW/ePA0bNuy6XxcPDw95enoqLS1NkjRixAitWrVK77//vkqWLKnZs2fr3nvv1cGDBxUYGChJ2rFjh8LCwrRmzRoVKHC57+Xvf/+7tm7dqri4OIWHh2vHjh1KT0+XJK1bt07PPvuspk6dqvr162vjxo3q1q2bwsLCFBUV5dQyatQoxcbGqkCBAurUqZNGjRqlcePGaeLEifr+++/VtGlTDRo0SAULFrzu/QRw+yMEA0Am4uLiNG7cOElS586d1bRpU02aNEm+vr4aNWqUXnvtNfXs2VOSFB4e7iw3ZcoUlSlTRtOnT3duwVWzZs3r2vb58+c1ffp0tx7M3r17O/+uUKGC+vfvr8WLFzshOLuaevTooXvuuUe//fabAgMDtWHDBv388896+OGHr6uutLQ0jRs3TqdPn1bTpk117tw5jR07Vps2bVKNGjUkSaNHj9aHH36oTz75RI8//riky73fM2bMcO4VfejQIS1YsECbN292eoavrnfUqFEaPny4HnnkEUlSxYoVtX79es2YMcMtBI8ZM0YNGjSQJD311FP66KOPJEmFCxeWp6enAgICFBoael37CMAeDIcAgD+Ij49XcnKyc/FXrVq1FBYWpmXLlun06dM6duxYlkMJ9uzZo7vvvvuG7oscFBSU4Sv8+Ph4tW7dWqVLl1ZAQIBiYmJ0/PhxSbpmTVFRUSpXrpwzpGDu3LmKjo52emqv5c0331RAQID8/Pz01ltv6V//+pfq1KmjH3/8UampqYqKilJAQIDz+PHHH3Xo0CFn+UqVKrn9WMp3330nf39/JwD/0e7du/Xiiy+6rTM2NtZtnZL7HxehoaFKSkrK0f4AgERPMABkEBcXp1OnTsnPz8+Zlp6erjlz5jhDCrJyrV+id7lcbvNcGVZwtau3K10OuW3bttWjjz6qkSNHqmjRolqwYIFiY2NztE1J6t69u+Li4tSlSxd9+OGHWrhw4TWXuaJ37956/vnnM/SsnjlzRtLlMbpFihRxW6Zo0aJZ7o8xJts/Es6cOaOxY8dmuAOFr6+v2/MrQ0Wky6/rleEUAJAThGAAuMr58+e1cOFCxcbGqn79+s70pKQktW7dWr///rvKli2r9evXZ9qTWbNmTX388cdZBr2QkBCdOHHCeb579+5r1rR//36dOnVKY8aMccLmlV5gSQoMDMy2Jknq1q2bhg0bpsmTJ8vPz0+tWrW65navCAoKUkRERIbp1apVk5eXlxITE7PcbmZq1KihM2fOaMuWLZkuV7t2bR06dCjTbeaUp6enLl26lOvlAdz+CMEAcJVly5ZJkrp06eLW0yhdDn3z5s3T0KFD9cILL6hYsWJq1qyZfvrpJ504cUKPPPKI+vXrp4kTJ6p3797q37+/ChYsqFWrVmnQoEGSpGbNmmnixImqW7euUlJSNGrUqGvWVLZsWXl6emrq1Knq3Lmz1qxZo6VLl6pQoULOPNnVJEmlSpVSq1atNGTIEKeuGxUYGKh+/fqpT58+unDhgurVq6cTJ05o+fLl6tq1q+64445Ml6tYsaK6dOmixx9/XJMnT1Z4eLh27dql0NBQRUVF6dVXX9Wjjz6qsLAwtW3bVqmpqdqwYYNCQkLUqVOnHNVWrlw5bdy4UT/99JP8/PwUFBR0w/sL4PbCmGAAuMqcOXPUtm3bDAFYktq3b685c+aod+/eGjFihEaMGKFq1aqpZ8+eOn36tKTLPb2fffaZDhw4oDvvvFNNmzZVfHy8s45x48apUKFCatiwoQYOHJijH3MoXry43nvvPU2dOlU1a9bUmjVr9Morr7jNk11NV3Tv3l1paWnq1q1bLl6ZzL311lvq27evBg0apCpVqujRRx/V8ePHFRwcnO1y7733nlq0aKHHHntMNWrU0Ouvv+7cOaJdu3Z6//33NXfuXNWsWVOtWrXSihUrVK5cuRzXNWjQIKWkpKhixYqqW7fuDe0jgNuTy+RkMBkA5FJqaqr27t3r3PMV+eftt9/WvHnztG3btvwu5U/hynvz8OHDOnLkiKpVq6a2bdvmd1kAbhF6ggHgNnf27Fnt2rVLkyZN0jPPPJPf5QDAnwIhGABuc2+++aYiIyNVt25d9erVy63t/vvvd7sV2dWPY8eO5VPFAJD3uDAOAG5zMTExWY49njFjhlJTUzNtK1WqVB5WBQD5ixAMABYrXbp0fpcAAPmC4RAAAACwDiEYQJ668oMR/JoX/my4ORJgN4ZDAMhT3t7eKliwoA4fPqzSpUvL29s725/MBW4FY4z+93//V8aYTH+6GsDtjxAMIE+5XC5Vr15dR48e1aFDh/K7HMBhjNHx48dljFF6enqmP5AC4PZFCAaQ57y8vBQREaGEhAQlJCQoJCREXl5e+V0WLJeWliZjjM6dO6dLly5d81fuANxeCMEAbgmXy6V69eopJSVFe/bsye9yADf16tVTrVq18rsMALcQP5sM4Ja6cOGCDh06pN9//52L5ZDvChQoIH9/f4WHhzMcArAMIRgAAADW4RZpAAAAsA4hGAAAANYhBAMAAMA6hGAAAABYhxAMAAAA6xCCAQAAYB1CMAAAAKxDCAYAAIB1CMEAAACwDiEYAAAA1iEEAwAAwDqEYAAAAFiHEAwAAADrEIIBAABgHUIwAAAArEMIBgAAgHUIwQAAALCOR35tOD09XadOnZKPj49cLld+lQEAAIDbnDFG586dU5EiRVSgwOU+4HwLwadOnVJwcHB+bR4AAACWSUlJUdGiRSXlYwj28fFxivH19c2vMgAAAHCbS01NVXBwsJM/pXwMwVeGQPj6+hKCAQAAkOeuHoLLhXEAAACwDiEYAAAA1iEEAwAAwDqEYAAAAFiHEAwAAADrEIIBAABgHUIwAAAArEMIBgAAgHUIwQAAALAOIRgAAADWIQQDAADAOoRgAAAAWIcQDAAAAOsQggEAAGAdj/wu4Hbmco3I7xKQS8YMz+8SAABAHiIEAwCAm4LOn7822zqAGA4BAAAA6xCCAQAAYB1CMAAAAKxDCAYAAIB1CMEAAACwDiEYAAAA1iEEAwAAwDqEYAAAAFiHEAwAAADrEIIBAABgHUIwAAAArEMIBgAAgHUIwQAAALAOIRgAAADWIQQDAADAOoRgAAAAWIcQDAAAAOsQggEAAGAdQjAAAACsQwgGAACAdQjBAAAAsA4hGAAAANYhBAMAAMA6hGAAAABYhxAMAAAA6xCCAQAAYB1CMAAAAKzjkd8FAMDN5nKNyO8ScAOMGZ7fJQCwAD3BAAAAsA4hGAAAANYhBAMAAMA6hGAAAABYhxAMAAAA6xCCAQAAYB1CMAAAAKxDCAYAAIB1CMEAAACwTrYh+NSpU3ryyScVGhqqgIAANWrUSF999ZXTnpCQoMjISPn4+Khq1apasWJFnhcMAAAA3KhsQ/DAgQO1efNmLV26VDt37lSDBg30t7/9TSdPnlRKSoruv/9+RUVFadu2berevbs6duyoffv23araAQAAgFzJNgQnJCSoV69eioqKUnh4uF5//XWdPn1a+/fv1/z58+Xn56fJkyerevXqGjx4sBo2bKh33333VtUOAAAA5Eq2Ifiuu+7SsmXL9Msvv+jSpUuaNWuWSpUqpRo1amjTpk1q0aKFXC6XM3/Lli2VkJCQ50UDAAAAN8Iju8bJkyerW7duCgkJUcGCBVWsWDF9+umnCggIUFJSkmrWrOk2f0hIiJKSkjJdV1pami5evOg8T01NvQnlAwAAANcv257giRMn6uDBg1q7dq02b96sxx57TO3atVNKSoqMMde1odGjR8vPz895BAcH31DhAAAAQG5lGYJTU1P12muvadKkSWrVqpXq1q2r8ePHy8fHRwsWLFCJEiUy9PomJyerePHima5vyJAhOnv2rPNISUm5uXsCAAAA5FCWITgtLU1paWkqWLCg+wIFCig9PV0NGjTQ+vXr3XqE161bp4YNG2a6Pk9PT/n6+ro9AAAAgPyQZQgODAxU48aNNXDgQCUkJOiHH37Q0KFDdfjwYbVu3Vpdu3bV77//rv79++v777/XmDFjtHHjRj3zzDO3sn4AAADgumU7JnjhwoWqWLGi2rVrpzp16ujf//63Pv74Y1WrVk3BwcFatWqV4uPjVadOHc2ePVuLFy9W1apVb1XtAAAAQK5ke3eI0qVL6/3338+yPSoqSlu2bLnpRQEAAAB5KdueYAAAAOB2RAgGAACAdQjBAAAAsA4hGAAAANYhBAMAAMA6hGAAAABYhxAMAAAA6xCCAQAAYB1CMAAAAKxDCAYAAIB1CMEAAACwDiEYAAAA1iEEAwAAwDqEYAAAAFiHEAwAAADrEIIBAABgHUIwAAAArEMIBgAAgHUIwQAAALAOIRgAAADWIQQDAADAOoRgAAAAWIcQDAAAAOsQggEAAGAdQjAAAACsQwgGAACAdQjBAAAAsA4hGAAAANYhBAMAAMA6hGAAAABYhxAMAAAA6xCCAQAAYB1CMAAAAKxDCAYAAIB1CMEAAACwDiEYAAAA1iEEAwAAwDqEYAAAAFiHEAwAAADrEIIBAABgHUIwAAAArEMIBgAAgHUIwQAAALAOIRgAAADWIQQDAADAOoRgAAAAWIcQDAAAAOsQggEAAGAdQjAAAACsQwgGAACAdQjBAAAAsA4hGAAAANYhBAMAAMA6hGAAAABYhxAMAAAA6xCCAQAAYB1CMAAAAKxDCAYAAIB1CMEAAACwDiEYAAAA1iEEAwAAwDqEYAAAAFiHEAwAAADrEIIBAABgHUIwAAAArHPNELxt2za1bNlSfn5+CgoK0qOPPuq0JSQkKDIyUj4+PqpatapWrFiRp8UCAAAAN0O2Ifj777/XPffcoyZNmmjz5s2Kj49X586dJUkpKSm6//77FRUVpW3btql79+7q2LGj9u3bd0sKBwAAAHLLI7vGoUOH6qGHHtKIESOcadWqVZMkzZ8/X35+fpo8ebJcLpeqV6+u1atX691339WECRPytmoAAADgBmTZE3zp0iV9+umnqlChgpo3b64SJUro3nvv1a5duyRJmzZtUosWLeRyuZxlWrZsqYSEhEzXl5aWptTUVLcHAAAAkB+yDMHJyck6e/as3nrrLT322GNavXq1ypQpo5YtW+rXX39VUlKSihcv7rZMSEiIkpKSMl3f6NGj5efn5zyCg4Nv7p4AAAAAOZRlCE5PT5ckPfzww3r66adVr149TZs2TS6XS5988omMMde1oSFDhujs2bPOIyUl5cYqBwAAAHIpyzHBxYoVU8GCBVWlShVnmqenpypWrKjjx4+rRIkSGXp9k5OTM/QOX72sp6fnTSobAAAAyL0se4K9vLxUt25d/fDDD860ixcv6siRIypbtqwaNGig9evXu/UIr1u3Tg0bNszbigEAAIAblO0t0p5//nnNnz9f8+fP14EDBzRgwABJUrt27dS1a1f9/vvv6t+/v77//nuNGTNGGzdu1DPPPHNLCgcAAAByK9tbpHXp0kXJyckaPHiwTp48qcjISH322WcKDAyUJK1atUr9+vXTtGnTVKFCBS1evFhVq1a9JYUDAAAAuZVtCJak/v37q3///pm2RUVFacuWLTe9KAAAACAvXfNnkwEAAIDbDSEYAAAA1iEEAwAAwDqEYAAAAFiHEAwAAADrEIIBAABgHUIwAAAArEMIBgAAgHUIwQAAALAOIRgAAADWIQQDAADAOoRgAAAAWIcQDAAAAOsQggEAAGAdQjAAAACsQwgGAACAdQjBAAAAsA4hGAAAANYhBAMAAMA6hGAAAABYhxAMAAAA6xCCAQAAYB1CMAAAAKxDCAYAAIB1CMEAAACwDiEYAAAA1iEEAwAAwDqEYAAAAFiHEAwAAADrEIIBAABgHUIwAAAArEMIBgAAgHUIwQAAALAOIRgAAADWIQQDAADAOoRgAAAAWIcQDAAAAOsQggEAAGAdQjAAAACsQwgGAACAdQjBAAAAsA4hGAAAANYhBAMAAMA6hGAAAABYhxAMAAAA6xCCAQAAYB1CMAAAAKxDCAYAAIB1CMEAAACwDiEYAAAA1iEEAwAAwDqEYAAAAFiHEAwAAADrEIIBAABgHUIwAAAArEMIBgAAgHUIwQAAALAOIRgAAADWIQQDAADAOoRgAAAAWIcQDAAAAOsQggEAAGAdQjAAAACsQwgGAACAdXIcgqOjo+VyufTZZ5850xISEhQZGSkfHx9VrVpVK1asyJMiAQAAgJspRyF49uzZSk1NdZuWkpKi+++/X1FRUdq2bZu6d++ujh07at++fXlSKAAAAHCzeFxrhqNHj2r48OGKj49XmTJlnOnz58+Xn5+fJk+eLJfLperVq2v16tV69913NWHChDwtGgAAALgR2fYEp6enq3v37hoxYoTCwsLc2jZt2qQWLVrI5XI501q2bKmEhIS8qRQAAAC4SbINwePHj1dAQIB69uyZoS0pKUnFixd3mxYSEqKkpKRM15WWlqbU1FS3BwAAAJAfsgzB33//vcaNG6f33nsv03ZjzHVtaPTo0fLz83MewcHB11cpAAAAcJNkGYITEhJ04sQJlS1bVh4eHvLwuDx8uE2bNuratatKlCiRodc3OTk5Q+/wFUOGDNHZs2edR0pKyk3cDQAAACDnsrwwLjo6WpGRkW7TatasqWnTpum+++7TkiVL9NZbb8kY44wLXrdunRo2bJjp+jw9PeXp6XkTSwcAAAByJ8sQXKRIERUpUiTD9PLlyyssLExdu3ZVTEyM+vfvrz59+uiTTz7Rxo0bNW3atDwtGAAAALhRuf7FuODgYK1atUrx8fGqU6eOZs+ercWLF6tq1ao3sz4AAADgprvmfYKv9seL4aKiorRly5abWhAAAACQ13LdEwwAAAD8VRGCAQAAYB1CMAAAAKxDCAYAAIB1CMEAAACwDiEYAAAA1iEEAwAAwDqEYAAAAFiHEAwAAADrEIIBAABgHUIwAAAArEMIBgAAgHUIwQAAALAOIRgAAADWIQQDAADAOoRgAAAAWIcQDAAAAOsQggEAAGAdQjAAAACsQwgGAACAdQjBAAAAsA4hGAAAANYhBAMAAMA6hGAAAABYhxAMAAAA6xCCAQAAYB1CMAAAAKxDCAYAAIB1CMEAAACwDiEYAAAA1iEEAwAAwDqEYAAAAFiHEAwAAADrEIIBAABgHUIwAAAArEMIBgAAgHUIwQAAALAOIRgAAADWIQQDAADAOoRgAAAAWIcQDAAAAOsQggEAAGAdQjAAAACsQwgGAACAdQjBAAAAsA4hGAAAANYhBAMAAMA6hGAAAABYhxAMAAAA6xCCAQAAYB1CMAAAAKxDCAYAAIB1CMEAAACwDiEYAAAA1iEEAwAAwDqEYAAAAFiHEAwAAADrEIIBAABgHUIwAAAArEMIBgAAgHUIwQAAALAOIRgAAADWIQQDAADAOoRgAAAAWIcQDAAAAOtkGYL/8Y9/qF69egoICFDJkiXVs2dPJScnu81z4MABtWjRQr6+vipfvrxmzZqV5wUDAAAANyrLEPz1119r4MCB2rJli5YtW6a9e/eqU6dOTntaWpratm2rYsWKafPmzRo2bJiefvppff7557ekcAAAACC3PLJqWLVqldvzCRMmqFGjRvr1119VuHBhrV69WsePH9e2bdtUqFAh1ahRQ19++aUmT56sli1b5nnhAAAAQG7leEzwL7/8Ih8fH/n7+0uSNm3apDvvvFOFChVy5mnZsqUSEhIyXT4tLU2pqaluDwAAACA/5CgEnz9/XiNHjlT37t3l4XG58zgpKUnFixd3my8kJCTDuOErRo8eLT8/P+cRHBx8g6UDAAAAuXPNEHzp0iU9/vjjkqSxY8c6040x17WhIUOG6OzZs84jJSXlOksFAAAAbo4sxwRLUnp6unr06KF9+/bpyy+/VEBAgNNWokQJ7du3z23+5ORkhYSEZLouT09PeXp63oSSAQAAgBuTZU+wMUZPPfWUNm7cqLVr16po0aJu7Q0aNNCWLVt05swZZ9q6devUsGHDvKsWAAAAuAmy7Al+5plntHz5cq1cuVKSdOLECUmXx/0WLFhQ9913n0qXLq1evXpp+PDhSkhI0Pvvv6/Vq1ffmsoBAACAXMoyBL/33nuSlKFn9/Dhwypfvry8vLy0cuVKPf3006pfv75KlCihf/3rX9weDQAAAH96WYbgnFz4VqVKFa1fv/5m1gMAAADkuRzfJxgAAAC4XRCCAQAAYB1CMAAAAKxDCAYAAIB1CMEAAACwDiEYAAAA1iEEAwAAwDqEYAAAAFiHEAwAAADrEIIBAABgHUIwAAAArEMIBgAAgHUIwQAAALAOIRgAAADWIQQDAADAOoRgAAAAWIcQDAAAAOsQggEAAGAdQjAAAACsQwgGAACAdQjBAAAAsA4hGAAAANYhBAMAAMA6hGAAAABYhxAMAAAA6xCCAQAAYB1CMAAAAKxDCAYAAIB1CMEAAACwDiEYAAAA1iEEAwAAwDqEYAAAAFiHEAwAAADrEIIBAABgHUIwAAAArEMIBgAAgHUIwQAAALAOIRgAAADWIQQDAADAOoRgAAAAWIcQDAAAAOsQggEAAGAdQjAAAACsQwgGAACAdQjBAAAAsA4hGAAAANYhBAMAAMA6hGAAAABYhxAMAAAA6xCCAQAAYB1CMAAAAKxDCAYAAIB1CMEAAACwDiEYAAAA1iEEAwAAwDqEYAAAAFiHEAwAAADrEIIBAABgHUIwAAAArEMIBgAAgHUIwQAAALAOIRgAAADWIQQDAADAOoRgAAAAWOeGQ/Abb7yhUqVKyc/PT+3atdOJEyduRl0AAABAnrmhEDx79myNGjVKU6ZMUXx8vH777Td16tTpZtUGAAAA5AmPG1l48uTJ6t+/vzp06CBJmjVrlsLDw7Vjxw7VqVPnphQIAAAA3Gy57gk+f/68du7cqXvuuceZVrFiRZUvX14JCQk3pTgAAAAgL+S6JzglJUXp6ekqXry42/SQkBAlJSVlmD8tLU0XL150np89e1aSlJqamtsS/gLS8rsA5NLt/b60AcfeXxnH318Zx95f2e187F3ZN2OMMy3XIfjqleTE6NGjNWLEiAzTg4ODc1sCkGf8/EbndwmAtTj+gPxhw7F37tw5+fn5SbqBEFysWDEVKFAgQ69vcnJyht5hSRoyZIhefvll53l6errOnDmjQoUKyeVy5bYM5JPU1FQFBwcrJSVFvr6++V0OYA2OPSB/cOz9tRljdO7cORUpUsSZlusQ7O3trdq1a+uLL75Qy5YtJUmHDx/WkSNH1LBhwwzze3p6ytPT022av79/bjePPwlfX19OBkA+4NgD8gfH3l/XlR7gK27o7hD9+vVT//79Vb9+fVWsWFHPP/+8mjZtyp0hAAAA8Kd2QyG4V69e+vnnn9W3b1+dOnVKrVq10vTp029WbQAAAECeuKEQLEmDBw/W4MGDb0Yt+Avx8PDQ8OHD5eFxw28hANeBYw/IHxx7tx+Xud7bPAAAAAB/cTf0s8kAAADAXxEhGAAAANYhBP+JNW/eXEOHDs318uXLl9eMGTNuYkV/fS6XS5999ll+lwGL3OhxDPyVffbZZ/wWwE12Kz7b169fL5fL5fZLv//zP/+jokWLyuVy6ciRI7dFxiAE34C8/nBbsmSJXnnllWvO98MPPzhvyqtt3rxZXbt2zcH8P+QAABwISURBVNW2Y2Ji5HK55HK55OnpqfDwcMXExCg9PT1X6/uzSExMVLNmzfK7DPxFNG/eXC6XS2vWrHGb/vjjj6tHjx45WkdOj+OcKl++vNuxWaFCBY0YMeK6f8UTdrnyXna5XPL391edOnX04Ycf5ndZeebKvl79uJnH4fW6nnPG0qVL1axZMwUGBqpw4cJq2LChpk+frrS0W/eT1I0aNVJiYqJzEeBXX32l6dOna+XKlUpMTFSZMmVuKGP8WRCC/8SKFi2qgICAXC8fEhJyQzf0btCggRITE3X48GGNGzdO48eP19SpU3O9vpw4f/58nq4/NDRUXl5eeboN3F58fHxu6I/dGz2OMzNu3DglJibq0KFDGj9+vMaNG6eZM2fe1G3g9jNgwAAlJiZqz5496tKlix577DHt3Lkzv8vKM4sWLVJiYqLzyO1xnNefS1cbO3asOnfurPvvv18bN27Uzp079dJLL2n69On67rvvblkdXl5eCg0NdZ4fOnRIJUuW1F133aXQ0FAVLFjwhjPGhQsXbkapN4QQnIfi4uIUEREhb29v1axZU6tXr3ZrX7BggcqWLSt/f391795dgwYNUvPmzZ32q3uajTEaPHiwSpcuLR8fH1WsWFHTpk2TJFWqVEmSVKFCBblcLsXExEjK+JXJjz/+qPbt2zt/XbZq1UonT57Msn5PT0+FhoYqLCxM0dHRatWqlT7//HO3eT777DNFRkbK19dXlStX1jvvvJOhvUqVKvL19dXf/vY3jRkzRuXLl3fae/Tooa5du+qVV15RsWLF9PDDD0u6/PPbXbt2VZEiRVSsWDF17dpVKSkpznLvv/++qlatKh8fH4WGhurvf/+70zZhwgRVqFBB3t7eCgsLc14PKeNwiNWrV6tmzZry9vZWRESE4uLinLYjR47I5XJp6dKlatCggfz9/dW8eXMdO3Ysy9cMt58nnnhCe/fu1dKlSzNt/+c//6lq1arJz89PlSpV0qRJk9zarz6O27dvr759+7q1b9myRR4eHvr5558lXf6wefDBBxUQEKBSpUqpX79+Onv2rNsygYGBCg0NVZkyZRQdHa177rlH27dvd9pnzpypOnXqyN/fX+XKldOwYcOcrzU/+OADlSpVSpcuXXLmN8aoXLlyio2NlSRdunRJw4YNU1hYmAoVKqTmzZtr165dzvzbtm1TkyZN5O/vr6CgIN199906derU9bysyAf+/v4KDQ1VhQoV9NJLL6lw4cJav3690/7JJ58oKipKhQoVUqlSpdS3b1/9/vvvTntMTIyaNGmiKVOmqGTJkipWrJheeuklt28hdu/ercjISPn4+KhJkyYZvqGUpLfeektlypSRt7e3oqKitGnTJqctNjZWYWFh+uCDD1ShQgUFBATo2Wefdd6TwcHBCgsL07x58665v0FBQQoNDXUeV/8xmpMaFixYoPDwcIWEhEjK/XERExOj+fPna86cOU6vdGaOHDmiwYMH6+2339bgwYNVvXp1lS9fXh07dlR8fLzzWX+18+fPq1u3bipTpoz8/f1Vv359rVu3zmnPLjucO3dOvXv3VvHixeXr66uqVas657mrh0PExMSoZ8+eOnbsmFwul/MZ/seMca1zV/ny5TVmzBh17NhRfn5+Gc6V+YEQnEfi4+PVq1cvPffcc9q1a5ceeughRUdHOyeE/fv3q1u3burTp4+2bdumypUr67333styfR9++KEWLFigRYsWaf/+/Zo5c6ZKlCghSfr2228lSZs2bVJiYqIGDRqUYfnz58+rdevWSk9P1xdffKGEhAR16NDB7YMwO3v27FF8fLxbL+r+/fvVoUMH9enTR999953efvttjRgxQgsXLpQknTx5Uh06dNB9992nHTt2qF27dhozZkyGdS9btkypqan65ptv9Pbbb0uSE4Y3bNig9evX69SpU3r88cclXR7S0LNnT40YMUL79+/XihUrVL9+fUmXh4AMHz5c7777rg4ePKhFixYpIiIi0306cuSIoqOjFR0drV27dmnAgAHq1auXvvnmG7f5YmJiNGbMGG3atElnz57V888/n6PXDLeH4sWLq3///ho2bFimw4G8vb2dXprRo0fr1Vdf1apVqzJdV+fOnbV48WK3427RokVq3ry5SpQooQsXLqhNmzaqVKmStm7dqmXLlmnz5s164YUXsqxv79692rhxo+68805nWnp6usaOHas9e/bo3Xff1YwZM5zzS3R0tFJTU93+GPzyyy/1yy+/qGPHjpKkESNGaNWqVXr//fe1fft2NW7cWPfee69+++03SZe/2m3cuLF2796tr7/++i//laht0tPTtWTJEp08edLtnH7u3DkNGTJEO3fu1AcffKAvvvhCI0aMcFt2165d2rx5s9atW6cZM2ZowoQJWrFihaTLIbFDhw4qW7astm7d6hw3V1uwYIFiYmL0xhtvaMeOHapVq5YeeOAB570lSSkpKVqwYIGWL1+uhQsX6r333tP999+v9PR0ffvtt+rTp4969+6t5OTkXO1/Tmr45ZdfNHv2bC1evFjx8fGScn9cDBo0SB07dtSjjz7q9EpnZsmSJfL19VXv3r0ztHl4eMjf3z/D9IsXL6py5cpavny5du7cqXbt2ql9+/ZKSkqSlH12mDRpkrZu3arVq1dr7969Gj9+vAIDAzNsY9CgQRo3bpzCwsKUmJiozZs3Z5gnp+euN998U/fdd5/27Nmjzp07Z/o63FIGuXb33XebIUOGZNrWqVMn88gjj7hNa9iwoRk0aJAxxphBgwaZxo0bu7Xfdddd5u677850/WPHjjUtW7Y06enpGbZ18OBBI8kcPnzYbXq5cuXM9OnTjTHGzJo1y4SEhJjff/89R/s2fPhwU6BAAePv72+8vb2NJOPl5WW++uorZ56ePXuaF154wW250aNHm5YtWxpjjJkyZYopW7asuXTpktP+2GOPmXLlyjnPu3fvbipWrOg2z5dffmlKlChh0tLSnGk//fSTkWSOHz9utmzZYgIDA83p06cz1L148WJTuXJlt2WvJsmsXbvWGGPMyy+/bO6880639k6dOpmHH37YGGPM4cOHjSSzcOFCp33BggUmODg48xcNt50rx+DJkydNkSJFzPz5840xxnTt2tV0794902Wefvpp07NnzwzrMMaYM2fOGD8/P+c9aIwx5cuXd47TOXPmmPr167ut75tvvjFeXl7m4sWLxpjLx7W3t7fbsdmjR49s9+Of//ynadGihVuNXbp0cZ737NnTdO3a1RhjTGpqqvH19TW7d+92W0elSpXM3LlzjTHGBAQEuJ0L8Od39913G09PT+Pv7288PDyMJFOmTBmTnJyc5TLvv/++qVChgvN8+PDhJigoyKSmpjrTWrdu7XwOrFq1yvj6+pr//ve/TvvLL79sro4aDRs2NC+++KLzPC0tzYSFhZkpU6YYY4yZPXu2cblc5sSJE848bdq0MXfccYfz/OLFi8bf39988sknWdYuyfj4+Bh/f3/ncfTo0RzX8MfP1Bs9LrI7Z1zxzDPPmNq1a2c7jzHun+2ZqVKlipkzZ44xJvvs0K9fP9OrV69M1/HFF18YSc5n6fTp090+u/9YR07PXdc6V91q9ATnkf379ysqKspt2l133aX9+/dLkg4ePOj0Xl4RGRmZ5fo6duyovXv3qlq1anr++ef15ZdfXlc9e/bsUYMGDeTn55fjZerWrasdO3YoISFBjz32mAYNGqSmTZs67bt379aUKVMUEBDgPEaOHKlDhw45+1inTh0VKPD/b7PM9rF27dpu8+zevVvJyckqUqSIs97KlStLuvx1S+3atVWrVi1VrFhRPXr00KJFi5yxRa1atZLL5VJ4eLieeeYZrVy5MssLhq71f3RFzZo1nX+HhoYqJSUlxz3ouD0UKVJEgwYN0vDhw92ulpaklStXqkmTJipRooQCAgI0a9YsHT9+PNP1+Pv7q23bts63JZs2bdJPP/2kDh06SLr83t+5c6fbMXXvvffqwoUL+umnn5z1DB8+XDt27NDOnTu1ZMkS/fvf/9Zbb73ltMfHx6t169YqXbq0AgICFBMT41ZTjx49tHTpUp0+fVqpqan66KOP1K1bN0mXh02lpqYqKirKrY4ff/zRObb79eun1q1bKzo6Wu+8845++eWXm/AqI6/17t1bO3bs0Oeff67IyEhNmzZNxYoVc9r37t2rhx56SGXLllWhQoXUs2fPDO/lSpUqycfHx3keGhrq9Dru379fERERCgoKctobNGjgtvwfz7seHh6KjIx0O++GhIQ4vZWSVKJECd1xxx3O84IFCyo4OPiaPcHTpk3Tjh07nEepUqVyXENQUJDb0L0/83ExduxY1apVy7n+4ODBg87/W3bZ4YknntDixYtVv359vfrqq9q6dWuua8jpuatu3bq539E8QAjOI1kFr6vbr+e2MeXLl9fBgwc1atQonTlzRg8++KCeffbZm1ZPZnx8fBQREaHatWtrzpw5+uCDD/Tpp5867WfOnNHAgQPdTjJ79uxxxiPldB//GMzPnDmjiIgIt/Xu2LFDBw8e1J133ikPDw+tX79eCxcuVIkSJfTSSy+pUaNGunDhggoXLqxdu3bpX//6l7y8vNSrVy+1b9/+hl4TT09P599X9ic3ryf+2vr3769ff/3VGTcrXf6jrEOHDrrnnnu0cuVKbd++Xd26dcv2Ku5OnTppyZIlSktL08KFC3XvvfeqaNGiki6/95s1a+b2vt+5c6cOHjyokiVLOusICQlRRESEqlSpooceekj9+/fX+PHjJUmnT59W27ZtVaFCBX300Ufatm2bXnnlFbeaoqKiVLZsWX300UdaunSpChUqpFatWjk1SJfHBF5dx/79+9WvXz9Jl8dBb968WVFRUZo7d66qVKmigwcP3pwXGnkmKChIERERatasmebPn69u3brpxIkTTnu7du3kcrk0f/58bdmyRZMmTcrwR9/V50Pp8jnxyjCh6/1cy0pm28huu1kpVaqUIiIinMf1/NxxZp9LUt4eFxERETp06FCG1zw78+bN08iRI/XCCy/oiy++0I4dO1S9enXneM8uOzRo0ECHDx/WgAEDdPToUTVu3Fhjx47N8bavltNz1/V0xN0KhOA8UrVqVW3cuNFt2rfffquqVatKkipXrpzhr65r/RXm7++vhx9+WNOnT9eMGTOcq8GvnByy652sWbOmNm/enOECm5zy9PTUwIED9eKLLzoBsHbt2s5f/lc/rvz1XLlyZW3fvt3tRJWTvzRr166tY8eOKTAwMMO6r1yJWrBgQbVo0cIZq7t161bt2LFD0uWrWh944AFNmjRJy5cv1/Lly52eiqtd6/8IuFpAQIAGDx6skSNHOleLb9u2Tb6+vho5cqQiIyNVqVIlHT58ONv1tG3bVmlpaVq7dq0WL16sTp06OW21a9fWvn37FBYWluG9/8cQcDUPDw+dO3dO0uVerlOnTmnMmDGKiopS5cqVM+2Z7tGjh+bOnau5c+eqa9euzrcx1apVk5eXlxITEzPUcCWsS1KNGjX0yiuvaOPGjQoNDdXHH3+c8xcT+a5y5cpq3ry5Ro0aJenyGNgff/xRr732mpo2baoqVaq4BeScuBL6rr5I8o/jR6tUqeJ23r148aK2bNlyS8+7uanhRo8LT0/Pa36D2KFDB509e1bTp0/P0Hbx4kW3ixSv2Lhxo+655x51795dtWvXVmhoaIaLt7PKDtLlu9c88cQTmj9/vkaOHKlZs2ZlW2NWcnvuym+E4Bv0888/Z+ixPHPmjJ577jktWbJEU6ZM0YEDB/Taa69p+/btzpXhTz31lL799luNGTNGBw4c0BtvvKHdu3dn+Vf0nDlzFBsbq++//14HDhzQ0qVLVaVKFUn/f9uvNWvWKDk5OdOg26VLFwUEBKhTp07aunWrDhw4oGnTpl3X1zXdu3fXsWPHnKtHX3zxRa1YsUJDhw7V3r179d133yk2Nta5jVqXLl108uRJvfDCCzpw4IBmzpypTz/99Jo9Ba1bt1bNmjXVoUMHbdiwQYcOHdLatWudO0AkJCRozJgx2rZtm44ePaq4uDh5e3urXLlyWrFihd555x3t3r1bhw4d0sKFC1WsWDEFBwdn2E6fPn20c+dOvfbaazpw4ICmTJmixYsXa8CAATl+TWCXPn36yBjjXAgUHh6u3377TbGxsfrhhx80atSoTC8auZqPj4/atWunl19+WT///LOio6Odtq5du8rLy0udOnXS5s2b9cMPP2j58uUZLnb97bffdOLECf30009au3atJk2apLZt20qSypYtK09PT02dOlWHDh3Su+++m+mdLZ544glt2LBBa9ascYZCSJfvPNGvXz/16dNHH330kQ4fPqxvv/1Wr776qr777julpqbqueee04YNG3T06FGtWrVKx44dc85H+Ovo16+fZs6cqcTERAUFBSkoKEjTp093zp1X7iKQU23atFHJkiX11FNPae/evVq8eLHmzJnjNk///v01depULViwQPv27VPfvn2VmprqXPh8K+Smhhs9LsqVK6ft27fryJEjWX7uVqhQQaNHj1b//v312muvafPmzTpy5IiWLl2qxo0bZ9qrHB4ervj4eG3YsEHfffedunfv7tbxlF12GD9+vD788EMdPHhQu3fv1po1a3J9HOf03PWnk1+DkW8Hd999t5GU4fHFF18YYy4PFA8PDzeenp6mRo0aZtWqVW7Lz5s3z4SFhRk/Pz/zxBNPmL59+5o2bdq4rf/KBTUff/yxufPOO01AQIApXLiwadOmjdm3b58z78SJE01oaKhxuVxm+PDhxpiMg+cPHjxoHnjgAePn52cCAwNN69atzcmTJzPdt+HDh2e4cM8YY5599lm3we9ffvmladKkifHx8TFFihQxzZo1MytXrnTa16xZYypVqmR8fHxM27ZtTUxMjKlSpYrT3r17d+eCnKulpKSYXr16mWLFihkfHx9TpUoV50KGvXv3mnvvvdcEBwcbX19fU69ePWebGzZsME2bNjWFCxc2/v7+pkmTJmbjxo3OenXVhXHGXL6Qo0aNGsbT09OEh4eb2NhYp+3KhXEHDx50pv3xYgHc3jK7+PXdd981kpyLXP7xj3+YkJAQU6hQIfPkk0+aQYMGZXmB6xXLly83kkx0dHSGbR45csQ8/PDDpnDhwsbPz8/UqlXLjB071mkvV66cc64pUKCACQsLM3379jW//vqrM8/s2bNN6dKljZ+fn3nooYfMm2++meGiFmMuX3BUr169DNMvXbpkRo8ebcqXL288PT1NWFiYefzxx01iYqI5f/686dSpkyldurTx8vIyFSpUMG+++WZOXk7ko6wu5K5Vq5YZOHCgMeby+TAiIsL4+PiYFi1amJkzZ7pd1JbZ58Ifz+E7duww9erVM15eXuauu+4y06ZNM3+MGm+++abz/mnYsKFJSEhw2q68d7PbhjHXvjjsj+f6P7reGoy5sePiP//5j2natKnx9fXN8Hr80UcffWSaNGliAgICTGBgoGnQoIGZMWOG87lz9b6fPXvWdO7c2QQEBJiSJUua8ePHm8aNGzs5ILvsMG3aNFOzZk3j6+trihYtah555BGTmJhojLn+C+OMydm5K7v/s/zgMobBjX8WrVq1UpUqVTLca/d28tRTTykxMVErV67M71IA69WuXVtPPvmknnvuufwuBQBuuZyPEsdN984776hRo0YKCAjQokWLtG7dOo0cOTK/y7qpYmNjVbVqVYWEhGjt2rWaO3eu24VFAG69//73v1q8eLF++OEHt6EQAGATQnA+2rNnj0aOHKnTp0+rcuXK+uijj9SoUaP8LuumOnbsmIYOHapffvlFFSpU0MSJE/XYY4/ld1mA1erVq6fffvtNU6dOVZEiRfK7HADIFwyHAAAAgHW4OwQAAACsQwgGAACAdQjBAAAAsA4hGAAAANYhBAMAAMA6hGAAuMl69OhxS34GNifbuVW1AMBfDSEYAHIpNjZWBQsWzLcfuZk4caLbL0yGhYXxYzQAkEOEYADIpbi4OA0YMEBxcXG3dLtpaWkyxqhw4cIqXLjwLd02ANwuCMEAkAvHjh3Tli1b9Prrr8sYo6+//jrLeY8cOaLmzZvLx8dHderU0aJFi+RyuXTkyBFnnri4OEVERMjb21s1a9bU6tWrnbb169fL5XLp008/1R133CFfX1+lpKS4DXVo3ry5fvrpJ/Xs2VMul0vNmzd3q2Ho0KEqWrSoSpUqpbffftutNpfLpSVLligyMlK+vr5q1aqVUlJS9OGHHyo8PFxBQUF6/vnnxW8rAbidEIIBIBfi4uL04IMPys/PT506ddKcOXOynPdKUE1ISNDYsWM1bNgwt/b4+Hj16tVLzz33nHbt2qWHHnpI0dHRbiFZkkaMGKHp06dr9+7dCgwMdGtbsmSJSpYsqQkTJigxMVFLlixx2j755BOlpaVp48aNiomJ0QsvvKBdu3a5LT9y5EiNGzdO3377rY4ePapHHnlE8+bN07JlyzRv3jxNnTpVK1asyM1LBQB/SoRgAMiFuLg4de7cWZLUuXNnLVq0SKmpqRnm++677/TNN99oxowZql27tlq1aqUXXnjBbZ5JkyapQ4cOeu6551SlShWNHDlSdevWdRvvK0lvvPGGGjVqpGrVqsnLy8utrWjRoipQoIAKFy6s0NBQFS1a1GkrU6aMxowZo8qVK+vvf/+7KleurK+++spt+VdffVV333236tSpoyeffFLr16/X9OnTVaNGDbVt21YtWrTQ+vXrb+QlA4A/FUIwAFyn+Ph4JScnq02bNpKkWrVqKSwsTMuWLcsw78GDBxUYGKiIiAhnWmRkpNs8+/fvV1RUlNu0u+66S/v373ebVrdu3VzVW6NGDbfnoaGhSkpKcptWs2ZN598lSpRQSEiIihcv7jYtOTk5V9sHgD8jQjAAXKe4uDidOnVKfn5+8vDwkIeHh77//vtMh0QYY+RyubJdX07H2vr5+eWqXk9PT7fnLpdL6enpWc7jcrlytAwA/JV55HcBAPBXcv78eS1cuFCxsbGqX7++Mz0pKUmtW7dWYmKi2/yVK1fWr7/+qh9//FHh4eGSpK1bt7rNU7VqVW3cuNFt2rfffqtmzZpdV22enp66dOnSdS0DALYiBAPAdbgy5KFLly4ZekurVaumefPmuU2744471LhxY/Xu3VsTJkxQcnKyc3eGKz3Ezz33nJo1a6YpU6aodevWmjdvnrZv364PPvjgumorV66cvvrqK7Vt21a+vr7cPg0AssFwCAC4DnPmzFHbtm0zBGBJat++faZDIubOnatLly6pQYMGGjhwoF555RVJkre3tySpUaNGmjVrliZMmKAaNWro448/1tKlS1W+fPnrqi0mJkYJCQkqU6aM2rdvf/07BwAWcRlu/AgAt9S8efPUp08f/frrrypQgL4IAMgPDIcAgDy2du1aXbx4UVWrVtXevXv16quvqkuXLgRgAMhHhGAAyGPnzp3Tiy++qKNHjyokJEQPPfSQ3njjjfwuCwCsxnAIAAAAWIfv4gAAAGAdQjAAAACsQwgGAACAdf4POw7wYA/jCx4AAAAASUVORK5CYII=\" class=\"pd_save\"></center>\n",
       "                        \n",
       "                    \n",
       "                \n",
       "        </div>"
      ],
      "text/plain": [
       "<IPython.core.display.HTML object>"
      ]
     },
     "metadata": {},
     "output_type": "display_data"
    }
   ],
   "source": [
    "display(acc)"
   ]
  },
  {
   "cell_type": "code",
   "execution_count": null,
   "metadata": {},
   "outputs": [],
   "source": []
  }
 ],
 "metadata": {
  "kernelspec": {
   "display_name": "Python 3",
   "language": "python",
   "name": "python3"
  },
  "language_info": {
   "codemirror_mode": {
    "name": "ipython",
    "version": 3
   },
   "file_extension": ".py",
   "mimetype": "text/x-python",
   "name": "python",
   "nbconvert_exporter": "python",
   "pygments_lexer": "ipython3",
   "version": "3.6.8"
  },
  "toc": {
   "base_numbering": 1,
   "nav_menu": {},
   "number_sections": true,
   "sideBar": true,
   "skip_h1_title": false,
   "title_cell": "Table of Contents",
   "title_sidebar": "Contents",
   "toc_cell": false,
   "toc_position": {},
   "toc_section_display": true,
   "toc_window_display": false
  }
 },
 "nbformat": 4,
 "nbformat_minor": 2
}
